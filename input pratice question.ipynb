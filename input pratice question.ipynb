{
 "cells": [
  {
   "cell_type": "code",
   "execution_count": 1,
   "id": "87269c51-6b23-47f6-a95f-1b920fe16640",
   "metadata": {},
   "outputs": [
    {
     "name": "stdin",
     "output_type": "stream",
     "text": [
      "enter a integer:  2\n"
     ]
    },
    {
     "data": {
      "text/plain": [
       "2"
      ]
     },
     "execution_count": 1,
     "metadata": {},
     "output_type": "execute_result"
    }
   ],
   "source": [
    "value = int(input(\"enter a integer: \"))\n",
    "value"
   ]
  },
  {
   "cell_type": "code",
   "execution_count": 2,
   "id": "fbbffe44-cd40-40d8-9284-640280d34c88",
   "metadata": {},
   "outputs": [
    {
     "name": "stdin",
     "output_type": "stream",
     "text": [
      "enter a float:  2\n"
     ]
    },
    {
     "data": {
      "text/plain": [
       "2.0"
      ]
     },
     "execution_count": 2,
     "metadata": {},
     "output_type": "execute_result"
    }
   ],
   "source": [
    "value2 = float(input(\"enter a float: \"))\n",
    "value2"
   ]
  },
  {
   "cell_type": "code",
   "execution_count": 3,
   "id": "f83ada8e-416c-4a6d-ae0d-b558a5e55c18",
   "metadata": {},
   "outputs": [
    {
     "name": "stdin",
     "output_type": "stream",
     "text": [
      "enter a values:  3\n"
     ]
    },
    {
     "data": {
      "text/plain": [
       "['3']"
      ]
     },
     "execution_count": 3,
     "metadata": {},
     "output_type": "execute_result"
    }
   ],
   "source": [
    "value3 = input(\"enter a values: \").split()# multiple space-separated values as input\n",
    "value3"
   ]
  },
  {
   "cell_type": "code",
   "execution_count": 4,
   "id": "7ec0f27a-01fe-49e7-8f1d-ce63ee30f44d",
   "metadata": {},
   "outputs": [
    {
     "name": "stdin",
     "output_type": "stream",
     "text": [
      "enter a value: 2\n"
     ]
    },
    {
     "name": "stdout",
     "output_type": "stream",
     "text": [
      "positive\n"
     ]
    }
   ],
   "source": [
    "#how do you check if a number entered by the user is positive, negative, or zero? \n",
    "r= int(input(\"enter a value:\"))\n",
    "if r > 0:\n",
    "    print(\"positive\")\n",
    "elif r < 0:\n",
    "    print(\"negative\")\n",
    "else:\n",
    "    print(\"zero\")"
   ]
  },
  {
   "cell_type": "code",
   "execution_count": 5,
   "id": "e34e4f75-ebe5-4d63-a491-f82a63b2be3d",
   "metadata": {},
   "outputs": [
    {
     "name": "stdin",
     "output_type": "stream",
     "text": [
      "enter a string: hello world\n"
     ]
    },
    {
     "name": "stdout",
     "output_type": "stream",
     "text": [
      "HELLO WORLD\n"
     ]
    }
   ],
   "source": [
    "user = input(\"enter a string:\")\n",
    "print(user.upper())\n"
   ]
  },
  {
   "cell_type": "code",
   "execution_count": 6,
   "id": "b9f3b05d-01b1-48b2-b1c0-5b2b6c4655ca",
   "metadata": {},
   "outputs": [
    {
     "name": "stdin",
     "output_type": "stream",
     "text": [
      "enter a string: hello world\n"
     ]
    },
    {
     "name": "stdout",
     "output_type": "stream",
     "text": [
      "Hello world\n"
     ]
    }
   ],
   "source": [
    "user = input(\"enter a string:\")\n",
    "print(user.capitalize())"
   ]
  },
  {
   "cell_type": "code",
   "execution_count": 7,
   "id": "663de388-ef89-4623-bdef-e965487e95f5",
   "metadata": {},
   "outputs": [
    {
     "name": "stdin",
     "output_type": "stream",
     "text": [
      "enter a string: hello world\n"
     ]
    },
    {
     "name": "stdout",
     "output_type": "stream",
     "text": [
      "Hello World\n"
     ]
    }
   ],
   "source": [
    "user = input(\"enter a string:\")\n",
    "print(user.title())"
   ]
  },
  {
   "cell_type": "code",
   "execution_count": 8,
   "id": "f9ef120e-e8c9-4609-a9ba-ed619baa58b6",
   "metadata": {},
   "outputs": [
    {
     "name": "stdin",
     "output_type": "stream",
     "text": [
      "enter a string:  hi hello\n"
     ]
    },
    {
     "name": "stdout",
     "output_type": "stream",
     "text": [
      "number of vowels: 3\n"
     ]
    }
   ],
   "source": [
    "#Write a Python program that accepts a string and prints the number of vowels in it. \n",
    "text = input(\"enter a string: \")\n",
    "vowels = \"aeiouAEIOU\"\n",
    "count = sum (1 for char in text if char in vowels)\n",
    "print(\"number of vowels:\",count)\n"
   ]
  },
  {
   "cell_type": "code",
   "execution_count": 9,
   "id": "7bdb0285-bc88-495e-b0f2-bf74c397738c",
   "metadata": {},
   "outputs": [
    {
     "name": "stdin",
     "output_type": "stream",
     "text": [
      "Enter a string:  hi hello\n"
     ]
    },
    {
     "name": "stdout",
     "output_type": "stream",
     "text": [
      "Vowels found: i e o\n",
      "Number of vowels: 3\n"
     ]
    }
   ],
   "source": [
    "text = input(\"Enter a string: \")\n",
    "vowels = \"aeiouAEIOU\"\n",
    "found_vowels = [ch for ch in text if ch in vowels]   # collect vowels\n",
    "count = len(found_vowels)                            # count vowels\n",
    "\n",
    "print(\"Vowels found:\", \" \".join(found_vowels))\n",
    "print(\"Number of vowels:\", count)"
   ]
  },
  {
   "cell_type": "code",
   "execution_count": 10,
   "id": "b5a12e7d-27ac-4780-8b36-df2336ed67da",
   "metadata": {},
   "outputs": [
    {
     "name": "stdin",
     "output_type": "stream",
     "text": [
      "enter a string: welcome back\n"
     ]
    },
    {
     "name": "stdout",
     "output_type": "stream",
     "text": [
      "no.of vowels:  3\n",
      "vowels:  i e o\n"
     ]
    }
   ],
   "source": [
    "string = input(\"enter a string:\")\n",
    "vowels=\"aeiouAEIOU\"\n",
    "m=[ch for ch in text if ch in vowels]\n",
    "count=len(m)\n",
    "print(\"no.of vowels: \",count)\n",
    "print(\"vowels: \",\" \".join(m))"
   ]
  },
  {
   "cell_type": "code",
   "execution_count": 11,
   "id": "995a47e7-8ac1-4266-97e0-b9dbfab16587",
   "metadata": {},
   "outputs": [
    {
     "name": "stdin",
     "output_type": "stream",
     "text": [
      "Enter a string:  welcome back\n"
     ]
    },
    {
     "name": "stdout",
     "output_type": "stream",
     "text": [
      "Number of consonants: 4\n",
      "Consonants found: h h l l\n"
     ]
    }
   ],
   "source": [
    "string = input(\"Enter a string: \")\n",
    "vowels = \"aeiouAEIOU\"\n",
    "\n",
    "# Collect consonants in a list\n",
    "consonants = [ch for ch in text if ch.isalpha() and ch not in vowels]\n",
    "#isalpha()-- ignores spaces, digits, punctuation\n",
    "# Count consonants\n",
    "count = len(consonants)\n",
    "\n",
    "print(\"Number of consonants:\", count)\n",
    "print(\"Consonants found:\", \" \".join(consonants))\n"
   ]
  },
  {
   "cell_type": "code",
   "execution_count": 12,
   "id": "5a100bed-d3df-4e11-b747-d379821dd224",
   "metadata": {},
   "outputs": [
    {
     "name": "stdin",
     "output_type": "stream",
     "text": [
      "enter a inter: 2\n"
     ]
    },
    {
     "name": "stdout",
     "output_type": "stream",
     "text": [
      "even\n"
     ]
    }
   ],
   "source": [
    "# Write a program that takes a number as input and checks if it is even or odd.\n",
    "r = int(input(\"enter a inter:\"))\n",
    "if r % 2 ==0:\n",
    "    print(\"even\")\n",
    "else:\n",
    "    print(\"odd\")\n",
    "\n"
   ]
  },
  {
   "cell_type": "code",
   "execution_count": 13,
   "id": "c7af7baf-d9c8-4a58-a85f-df54c5278af1",
   "metadata": {},
   "outputs": [
    {
     "name": "stdin",
     "output_type": "stream",
     "text": [
      "enter a string: string\n"
     ]
    },
    {
     "name": "stdout",
     "output_type": "stream",
     "text": [
      "Not a Palindrome\n"
     ]
    }
   ],
   "source": [
    "# How would you check if a string is a palindrome using `input()`\n",
    "text = input(\"enter a string:\")\n",
    "\n",
    "if text == text[::-1]:\n",
    "    print(\"palindrome\")\n",
    "else:\n",
    "    print(\"Not a Palindrome\")\n"
   ]
  },
  {
   "cell_type": "code",
   "execution_count": 14,
   "id": "97ecfac2-5330-424d-a50c-75e234433f39",
   "metadata": {},
   "outputs": [
    {
     "name": "stdin",
     "output_type": "stream",
     "text": [
      "enter a string: wind\n"
     ]
    },
    {
     "name": "stdout",
     "output_type": "stream",
     "text": [
      "Not a Palindrome\n"
     ]
    }
   ],
   "source": [
    "# this will take care of spaces and case sensitive\n",
    "text = input(\"enter a string:\")\n",
    "cleaned_text = text.replace(\" \", \"\").lower() \n",
    "if cleaned_text == cleaned_text[::-1]:\n",
    "    print(\"palindrome\")\n",
    "else:\n",
    "    print(\"Not a Palindrome\")"
   ]
  },
  {
   "cell_type": "code",
   "execution_count": 16,
   "id": "4b5d32ac-84b2-448d-976a-27d851c18d0d",
   "metadata": {},
   "outputs": [
    {
     "name": "stdin",
     "output_type": "stream",
     "text": [
      "enter a number:  12\n"
     ]
    },
    {
     "name": "stdout",
     "output_type": "stream",
     "text": [
      "144\n"
     ]
    }
   ],
   "source": [
    "#print square\n",
    "num = int(input(\"enter a number: \"))\n",
    "print(num**2)"
   ]
  },
  {
   "cell_type": "code",
   "execution_count": null,
   "id": "49abc513-0f2f-493d-b645-2aa0d11ce0a5",
   "metadata": {},
   "outputs": [],
   "source": [
    "num = int(input(\"enter a number:\"))\n",
    "if num % 3 ==0:\n",
    "    print(\"divisible by 3\")\n",
    "else:\n",
    "    print(\"not divisible by 3\")"
   ]
  },
  {
   "cell_type": "code",
   "execution_count": null,
   "id": "b958c850-415d-4919-9249-b416907bf802",
   "metadata": {},
   "outputs": [],
   "source": [
    "#How would you check if a number is divisible by both 3 and 7? \n",
    "number = int(input(\"Enter a number: \")) \n",
    "if number % 3 == 0 and number % 7 == 0: \n",
    "       print(\"Divisible by both 3 and 7\") \n",
    "else: \n",
    "       print(\"Not divisible by both 3 and 7\")\n",
    "          "
   ]
  },
  {
   "cell_type": "code",
   "execution_count": null,
   "id": "d4d61a91-5929-4ad5-9fc9-eff04ce92a35",
   "metadata": {},
   "outputs": [],
   "source": [
    "values = input(\"enter a text:\").split()\n",
    "values"
   ]
  },
  {
   "cell_type": "code",
   "execution_count": null,
   "id": "467ad19f-ab35-45c7-ac49-9c006e449025",
   "metadata": {},
   "outputs": [],
   "source": [
    "# Write a program that checks if the input number is a prime number.\n",
    "\n",
    "num = int(input(\"enter a number: \"))\n",
    "if num>1:\n",
    "    for i in range(2,num):\n",
    "        if num%i ==0:\n",
    "            print(\"Not a prime\")\n",
    "            break\n",
    "# this else belongs to the for-loop: runs only if no break occurs\n",
    "        else:\n",
    "            print(\"prime number\")\n",
    "    else:\n",
    "        print(\"Not a prime\")\n"
   ]
  },
  {
   "cell_type": "code",
   "execution_count": null,
   "id": "fab888c7-d7f0-4928-99a3-25d89e01a394",
   "metadata": {},
   "outputs": [],
   "source": [
    " user_input = input(\"Enter True or False: \").lower() == \"true\"\n",
    " user_input"
   ]
  },
  {
   "cell_type": "code",
   "execution_count": null,
   "id": "8cde9165-ec69-44bf-b574-17e3b41ad2e2",
   "metadata": {},
   "outputs": [],
   "source": [
    "#reverse of string\n",
    "user_input = input(\"Enter a string: \") \n",
    "print(\"Reversed string:\", user_input[::-1]) "
   ]
  },
  {
   "cell_type": "code",
   "execution_count": null,
   "id": "764211e6-fb66-48e1-8cb0-1b775b0d3824",
   "metadata": {},
   "outputs": [],
   "source": [
    "#Write a program that asks for a user's name and age and prints a message. \n",
    "name = input(\"enter a name: \")\n",
    "age = int(input(\"enter a age: \"))\n",
    "print(f\"Hello,{name}.you are {age} years old.\") #f= formate string"
   ]
  },
  {
   "cell_type": "code",
   "execution_count": null,
   "id": "d5fdc38e-622e-47d9-978a-bdafb987a9c8",
   "metadata": {},
   "outputs": [],
   "source": [
    "#Write a program to calculate the factorial of a number using `input()`. \n",
    "num = int(input(\"enter a number: \"))\n",
    "factorial =1\n",
    "for i in range(1,num+1):\n",
    " factorial *= i\n",
    "print(f\"factorical={factorial},i={i}\")"
   ]
  },
  {
   "cell_type": "code",
   "execution_count": null,
   "id": "5e388791-4987-4846-8ea8-d2ae04804525",
   "metadata": {},
   "outputs": [],
   "source": [
    "#Write a program that accepts a sentence and prints the longest word. \n",
    "text = input (\"Enter a sentence:\")\n",
    "words = text.split() \n",
    "longest_word = max(words, key=len) \n",
    "print(\"Longest word:\", longest_word) "
   ]
  },
  {
   "cell_type": "code",
   "execution_count": null,
   "id": "28c2dd6d-d400-4f4d-8374-62fbad509bf8",
   "metadata": {},
   "outputs": [],
   "source": [
    "#average of number\n",
    "num = list(map(int,input(\"enter a  numbers:\").split()))\n",
    "print(\"average:\",sum(num)/len(num))"
   ]
  },
  {
   "cell_type": "code",
   "execution_count": null,
   "id": "b6890cb4-9a73-401b-95fd-dcadf89fc159",
   "metadata": {},
   "outputs": [],
   "source": [
    "#absolute without considering  its number\n",
    "num = int(input(\"Enter a number: \")) \n",
    "print(\"Absolute value:\", abs(num))"
   ]
  },
  {
   "cell_type": "code",
   "execution_count": 27,
   "id": "2f73c554-7c22-40ef-8a74-ab958cedd17b",
   "metadata": {},
   "outputs": [
    {
     "name": "stdin",
     "output_type": "stream",
     "text": [
      "Enter a string:  h ello\n"
     ]
    },
    {
     "name": "stdout",
     "output_type": "stream",
     "text": [
      "Contains non-whitespace characters\n"
     ]
    }
   ],
   "source": [
    "user_input = input(\"Enter a string: \") \n",
    "if user_input.isspace(): \n",
    "       print(\"Only whitespace\") \n",
    "else: \n",
    "       print(\"Contains non-whitespace characters\") "
   ]
  },
  {
   "cell_type": "code",
   "execution_count": 17,
   "id": "48a8912e-c5b3-4a88-989e-9ca4650068c5",
   "metadata": {},
   "outputs": [
    {
     "name": "stdin",
     "output_type": "stream",
     "text": [
      "Enter a string:  hello 798\n"
     ]
    },
    {
     "name": "stdout",
     "output_type": "stream",
     "text": [
      "Contains digits\n"
     ]
    }
   ],
   "source": [
    "   user_input = input(\"Enter a string: \") \n",
    "   if any(char.isdigit() for char in user_input): \n",
    "       print(\"Contains digits\") \n",
    "   else: \n",
    "       print(\"No digits\") "
   ]
  },
  {
   "cell_type": "code",
   "execution_count": 28,
   "id": "086f5818-1ec9-4cd9-8f36-4f6c966cc3da",
   "metadata": {},
   "outputs": [
    {
     "name": "stdin",
     "output_type": "stream",
     "text": [
      "Enter a string:  mnkbg23uy9\n"
     ]
    },
    {
     "name": "stdout",
     "output_type": "stream",
     "text": [
      "Contains non-alphabet characters\n"
     ]
    }
   ],
   "source": [
    "# string contains only alphabets\n",
    "user_input = input(\"Enter a string: \") \n",
    "if user_input.isalpha(): \n",
    "       print(\"Only alphabets\") \n",
    "else: \n",
    "       print(\"Contains non-alphabet characters\")"
   ]
  },
  {
   "cell_type": "code",
   "execution_count": 29,
   "id": "9fcb37dc-6a77-4c54-97ab-83402cfdb534",
   "metadata": {},
   "outputs": [
    {
     "name": "stdin",
     "output_type": "stream",
     "text": [
      "enter a year: 2015\n"
     ]
    },
    {
     "name": "stdout",
     "output_type": "stream",
     "text": [
      "not leap year\n"
     ]
    }
   ],
   "source": [
    "#leap year checking\n",
    "year=int(input(\"enter a year:\"))\n",
    "if(year % 400 ==0):\n",
    "    print(\"leap year\")\n",
    "else:\n",
    "    print(\"not leap year\")"
   ]
  },
  {
   "cell_type": "code",
   "execution_count": 35,
   "id": "2f2623c4-a2f2-4b9a-8570-36a7f7fcb2b8",
   "metadata": {},
   "outputs": [
    {
     "name": "stdin",
     "output_type": "stream",
     "text": [
      "Enter a number:  2\n"
     ]
    },
    {
     "name": "stdout",
     "output_type": "stream",
     "text": [
      "Cube: 8\n"
     ]
    }
   ],
   "source": [
    "num = int(input(\"Enter a number: \"))\n",
    "print(\"Cube:\", num**3)"
   ]
  },
  {
   "cell_type": "code",
   "execution_count": 38,
   "id": "862809e8-fb82-4c68-bbe6-6f17072ebb8b",
   "metadata": {},
   "outputs": [
    {
     "name": "stdin",
     "output_type": "stream",
     "text": [
      "Enter something:  gA JHSAUDGI  JHSIUG               \n"
     ]
    },
    {
     "data": {
      "text/plain": [
       "'gA JHSAUDGI  JHSIUG'"
      ]
     },
     "execution_count": 38,
     "metadata": {},
     "output_type": "execute_result"
    }
   ],
   "source": [
    "user_input = input(\"Enter something: \").strip() \n",
    "user_input"
   ]
  },
  {
   "cell_type": "code",
   "execution_count": 41,
   "id": "452a7416-f0f6-43a1-89e7-a44fe42c3cbe",
   "metadata": {},
   "outputs": [
    {
     "name": "stdin",
     "output_type": "stream",
     "text": [
      "enter a number: 2\n"
     ]
    },
    {
     "name": "stdout",
     "output_type": "stream",
     "text": [
      "not a perfect square\n"
     ]
    }
   ],
   "source": [
    "# to check it is perfect square\n",
    "import math\n",
    "num = int(input(\"enter a number:\"))\n",
    "if math.isqrt(num)**2 == num:\n",
    "    print(\"perfect square\")\n",
    "else:\n",
    "    print(\"not a perfect square\")"
   ]
  },
  {
   "cell_type": "code",
   "execution_count": null,
   "id": "79c21963-3cdc-4cf2-a0ac-b05c8e3cc255",
   "metadata": {},
   "outputs": [],
   "source": []
  },
  {
   "cell_type": "code",
   "execution_count": null,
   "id": "4f30509d-0ab1-4655-8726-7f00be4ee202",
   "metadata": {},
   "outputs": [],
   "source": []
  },
  {
   "cell_type": "code",
   "execution_count": null,
   "id": "06e0f09c-3e69-4577-976c-28add1009b10",
   "metadata": {},
   "outputs": [],
   "source": []
  },
  {
   "cell_type": "code",
   "execution_count": null,
   "id": "02f6db88-a847-4ff9-91a5-c9bb245b518c",
   "metadata": {},
   "outputs": [],
   "source": []
  },
  {
   "cell_type": "code",
   "execution_count": null,
   "id": "8665d4e5-07c4-4961-b0eb-153afb2b7575",
   "metadata": {},
   "outputs": [],
   "source": []
  },
  {
   "cell_type": "code",
   "execution_count": null,
   "id": "5a326108-ae14-4a98-9745-b024c88ca909",
   "metadata": {},
   "outputs": [],
   "source": []
  },
  {
   "cell_type": "code",
   "execution_count": null,
   "id": "2bda2e3c-0da1-437c-ad17-dd3c15f47de7",
   "metadata": {},
   "outputs": [],
   "source": []
  },
  {
   "cell_type": "code",
   "execution_count": null,
   "id": "3f1dabc3-c35b-4a02-892e-a5bfefb1ee39",
   "metadata": {},
   "outputs": [],
   "source": []
  },
  {
   "cell_type": "code",
   "execution_count": null,
   "id": "7313b936-2d88-42a8-b7d2-4b45642ddf3d",
   "metadata": {},
   "outputs": [],
   "source": []
  },
  {
   "cell_type": "code",
   "execution_count": null,
   "id": "d2e50df7-6034-4f8d-925a-b0282c35c423",
   "metadata": {},
   "outputs": [],
   "source": []
  },
  {
   "cell_type": "code",
   "execution_count": null,
   "id": "f04f1a0b-d726-4a9b-ae74-ca7d000daffb",
   "metadata": {},
   "outputs": [],
   "source": []
  },
  {
   "cell_type": "code",
   "execution_count": null,
   "id": "ea9f1ff8-8282-4ab1-9f20-f1cf333e8ed2",
   "metadata": {},
   "outputs": [],
   "source": []
  },
  {
   "cell_type": "code",
   "execution_count": null,
   "id": "2d64b816-e233-41e1-8fbe-685318b38f26",
   "metadata": {},
   "outputs": [],
   "source": []
  },
  {
   "cell_type": "code",
   "execution_count": null,
   "id": "0321ced9-b475-48b8-90b8-c6a00c879c84",
   "metadata": {},
   "outputs": [],
   "source": []
  },
  {
   "cell_type": "code",
   "execution_count": null,
   "id": "70eb0b93-6e04-4035-b106-585602418bbb",
   "metadata": {},
   "outputs": [],
   "source": []
  },
  {
   "cell_type": "code",
   "execution_count": null,
   "id": "52f5f1da-6c1e-4336-99d9-2b2318475ff0",
   "metadata": {},
   "outputs": [],
   "source": []
  }
 ],
 "metadata": {
  "kernelspec": {
   "display_name": "Python [conda env:base] *",
   "language": "python",
   "name": "conda-base-py"
  },
  "language_info": {
   "codemirror_mode": {
    "name": "ipython",
    "version": 3
   },
   "file_extension": ".py",
   "mimetype": "text/x-python",
   "name": "python",
   "nbconvert_exporter": "python",
   "pygments_lexer": "ipython3",
   "version": "3.13.5"
  }
 },
 "nbformat": 4,
 "nbformat_minor": 5
}
