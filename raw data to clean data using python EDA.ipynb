{
 "cells": [
  {
   "cell_type": "code",
   "execution_count": 1,
   "id": "1c5c7d7a-97bf-4eec-89d6-97c4c37d155a",
   "metadata": {},
   "outputs": [],
   "source": [
    "import pandas as pd\n"
   ]
  },
  {
   "cell_type": "code",
   "execution_count": 2,
   "id": "092a8fa2-76fa-480d-9ec9-0468f1c93da9",
   "metadata": {},
   "outputs": [
    {
     "data": {
      "text/plain": [
       "'2.2.3'"
      ]
     },
     "execution_count": 2,
     "metadata": {},
     "output_type": "execute_result"
    }
   ],
   "source": [
    "pd.__version__"
   ]
  },
  {
   "cell_type": "code",
   "execution_count": 3,
   "id": "58567c2f-922f-4d44-ba71-d01ee3eebbf4",
   "metadata": {},
   "outputs": [
    {
     "data": {
      "text/html": [
       "<div>\n",
       "<style scoped>\n",
       "    .dataframe tbody tr th:only-of-type {\n",
       "        vertical-align: middle;\n",
       "    }\n",
       "\n",
       "    .dataframe tbody tr th {\n",
       "        vertical-align: top;\n",
       "    }\n",
       "\n",
       "    .dataframe thead th {\n",
       "        text-align: right;\n",
       "    }\n",
       "</style>\n",
       "<table border=\"1\" class=\"dataframe\">\n",
       "  <thead>\n",
       "    <tr style=\"text-align: right;\">\n",
       "      <th></th>\n",
       "      <th>Name</th>\n",
       "      <th>Domain</th>\n",
       "      <th>Age</th>\n",
       "      <th>Location</th>\n",
       "      <th>Salary</th>\n",
       "      <th>Exp</th>\n",
       "    </tr>\n",
       "  </thead>\n",
       "  <tbody>\n",
       "    <tr>\n",
       "      <th>0</th>\n",
       "      <td>Mike</td>\n",
       "      <td>Datascience#$</td>\n",
       "      <td>34 years</td>\n",
       "      <td>Mumbai</td>\n",
       "      <td>5^00#0</td>\n",
       "      <td>2+</td>\n",
       "    </tr>\n",
       "    <tr>\n",
       "      <th>1</th>\n",
       "      <td>Teddy^</td>\n",
       "      <td>Testing</td>\n",
       "      <td>45' yr</td>\n",
       "      <td>Bangalore</td>\n",
       "      <td>10%%000</td>\n",
       "      <td>&lt;3</td>\n",
       "    </tr>\n",
       "    <tr>\n",
       "      <th>2</th>\n",
       "      <td>Uma#r</td>\n",
       "      <td>Dataanalyst^^#</td>\n",
       "      <td>NaN</td>\n",
       "      <td>NaN</td>\n",
       "      <td>1$5%000</td>\n",
       "      <td>4&gt; yrs</td>\n",
       "    </tr>\n",
       "    <tr>\n",
       "      <th>3</th>\n",
       "      <td>Jane</td>\n",
       "      <td>Ana^^lytics</td>\n",
       "      <td>NaN</td>\n",
       "      <td>Hyderbad</td>\n",
       "      <td>2000^0</td>\n",
       "      <td>NaN</td>\n",
       "    </tr>\n",
       "    <tr>\n",
       "      <th>4</th>\n",
       "      <td>Uttam*</td>\n",
       "      <td>Statistics</td>\n",
       "      <td>67-yr</td>\n",
       "      <td>NaN</td>\n",
       "      <td>30000-</td>\n",
       "      <td>5+ year</td>\n",
       "    </tr>\n",
       "    <tr>\n",
       "      <th>5</th>\n",
       "      <td>Kim</td>\n",
       "      <td>NLP</td>\n",
       "      <td>55yr</td>\n",
       "      <td>Delhi</td>\n",
       "      <td>6000^$0</td>\n",
       "      <td>10+</td>\n",
       "    </tr>\n",
       "  </tbody>\n",
       "</table>\n",
       "</div>"
      ],
      "text/plain": [
       "     Name          Domain       Age   Location   Salary      Exp\n",
       "0    Mike   Datascience#$  34 years     Mumbai   5^00#0       2+\n",
       "1  Teddy^         Testing    45' yr  Bangalore  10%%000       <3\n",
       "2   Uma#r  Dataanalyst^^#       NaN        NaN  1$5%000   4> yrs\n",
       "3    Jane     Ana^^lytics       NaN   Hyderbad   2000^0      NaN\n",
       "4  Uttam*      Statistics     67-yr        NaN   30000-  5+ year\n",
       "5     Kim             NLP      55yr      Delhi  6000^$0      10+"
      ]
     },
     "execution_count": 3,
     "metadata": {},
     "output_type": "execute_result"
    }
   ],
   "source": [
    "emp=pd.read_excel(r\"C:\\Users\\DELL\\Downloads\\Rawdata.xlsx\")\n",
    "emp"
   ]
  },
  {
   "cell_type": "code",
   "execution_count": 4,
   "id": "61e9cf89-511d-49fa-a3ea-17c7fcb66a50",
   "metadata": {},
   "outputs": [
    {
     "data": {
      "text/plain": [
       "2569747769600"
      ]
     },
     "execution_count": 4,
     "metadata": {},
     "output_type": "execute_result"
    }
   ],
   "source": [
    "id(emp)"
   ]
  },
  {
   "cell_type": "code",
   "execution_count": 5,
   "id": "86ccd4b7-da16-49ba-a658-bf134996743e",
   "metadata": {},
   "outputs": [
    {
     "data": {
      "text/plain": [
       "Index(['Name', 'Domain', 'Age', 'Location', 'Salary', 'Exp'], dtype='object')"
      ]
     },
     "execution_count": 5,
     "metadata": {},
     "output_type": "execute_result"
    }
   ],
   "source": [
    "emp.columns"
   ]
  },
  {
   "cell_type": "code",
   "execution_count": 6,
   "id": "73fc3e72-07d2-42e3-9901-9e21a137e594",
   "metadata": {},
   "outputs": [
    {
     "data": {
      "text/plain": [
       "(6, 6)"
      ]
     },
     "execution_count": 6,
     "metadata": {},
     "output_type": "execute_result"
    }
   ],
   "source": [
    "emp.shape"
   ]
  },
  {
   "cell_type": "code",
   "execution_count": 7,
   "id": "036206d7-cea7-4345-9645-6f50c0154131",
   "metadata": {},
   "outputs": [
    {
     "data": {
      "text/html": [
       "<div>\n",
       "<style scoped>\n",
       "    .dataframe tbody tr th:only-of-type {\n",
       "        vertical-align: middle;\n",
       "    }\n",
       "\n",
       "    .dataframe tbody tr th {\n",
       "        vertical-align: top;\n",
       "    }\n",
       "\n",
       "    .dataframe thead th {\n",
       "        text-align: right;\n",
       "    }\n",
       "</style>\n",
       "<table border=\"1\" class=\"dataframe\">\n",
       "  <thead>\n",
       "    <tr style=\"text-align: right;\">\n",
       "      <th></th>\n",
       "      <th>Name</th>\n",
       "      <th>Domain</th>\n",
       "      <th>Age</th>\n",
       "      <th>Location</th>\n",
       "      <th>Salary</th>\n",
       "      <th>Exp</th>\n",
       "    </tr>\n",
       "  </thead>\n",
       "  <tbody>\n",
       "    <tr>\n",
       "      <th>0</th>\n",
       "      <td>Mike</td>\n",
       "      <td>Datascience#$</td>\n",
       "      <td>34 years</td>\n",
       "      <td>Mumbai</td>\n",
       "      <td>5^00#0</td>\n",
       "      <td>2+</td>\n",
       "    </tr>\n",
       "    <tr>\n",
       "      <th>1</th>\n",
       "      <td>Teddy^</td>\n",
       "      <td>Testing</td>\n",
       "      <td>45' yr</td>\n",
       "      <td>Bangalore</td>\n",
       "      <td>10%%000</td>\n",
       "      <td>&lt;3</td>\n",
       "    </tr>\n",
       "    <tr>\n",
       "      <th>2</th>\n",
       "      <td>Uma#r</td>\n",
       "      <td>Dataanalyst^^#</td>\n",
       "      <td>NaN</td>\n",
       "      <td>NaN</td>\n",
       "      <td>1$5%000</td>\n",
       "      <td>4&gt; yrs</td>\n",
       "    </tr>\n",
       "    <tr>\n",
       "      <th>3</th>\n",
       "      <td>Jane</td>\n",
       "      <td>Ana^^lytics</td>\n",
       "      <td>NaN</td>\n",
       "      <td>Hyderbad</td>\n",
       "      <td>2000^0</td>\n",
       "      <td>NaN</td>\n",
       "    </tr>\n",
       "    <tr>\n",
       "      <th>4</th>\n",
       "      <td>Uttam*</td>\n",
       "      <td>Statistics</td>\n",
       "      <td>67-yr</td>\n",
       "      <td>NaN</td>\n",
       "      <td>30000-</td>\n",
       "      <td>5+ year</td>\n",
       "    </tr>\n",
       "  </tbody>\n",
       "</table>\n",
       "</div>"
      ],
      "text/plain": [
       "     Name          Domain       Age   Location   Salary      Exp\n",
       "0    Mike   Datascience#$  34 years     Mumbai   5^00#0       2+\n",
       "1  Teddy^         Testing    45' yr  Bangalore  10%%000       <3\n",
       "2   Uma#r  Dataanalyst^^#       NaN        NaN  1$5%000   4> yrs\n",
       "3    Jane     Ana^^lytics       NaN   Hyderbad   2000^0      NaN\n",
       "4  Uttam*      Statistics     67-yr        NaN   30000-  5+ year"
      ]
     },
     "execution_count": 7,
     "metadata": {},
     "output_type": "execute_result"
    }
   ],
   "source": [
    "emp.head()"
   ]
  },
  {
   "cell_type": "code",
   "execution_count": 8,
   "id": "ed26c062-a1db-4081-81ab-538eb47cf3a7",
   "metadata": {},
   "outputs": [
    {
     "data": {
      "text/html": [
       "<div>\n",
       "<style scoped>\n",
       "    .dataframe tbody tr th:only-of-type {\n",
       "        vertical-align: middle;\n",
       "    }\n",
       "\n",
       "    .dataframe tbody tr th {\n",
       "        vertical-align: top;\n",
       "    }\n",
       "\n",
       "    .dataframe thead th {\n",
       "        text-align: right;\n",
       "    }\n",
       "</style>\n",
       "<table border=\"1\" class=\"dataframe\">\n",
       "  <thead>\n",
       "    <tr style=\"text-align: right;\">\n",
       "      <th></th>\n",
       "      <th>Name</th>\n",
       "      <th>Domain</th>\n",
       "      <th>Age</th>\n",
       "      <th>Location</th>\n",
       "      <th>Salary</th>\n",
       "      <th>Exp</th>\n",
       "    </tr>\n",
       "  </thead>\n",
       "  <tbody>\n",
       "    <tr>\n",
       "      <th>1</th>\n",
       "      <td>Teddy^</td>\n",
       "      <td>Testing</td>\n",
       "      <td>45' yr</td>\n",
       "      <td>Bangalore</td>\n",
       "      <td>10%%000</td>\n",
       "      <td>&lt;3</td>\n",
       "    </tr>\n",
       "    <tr>\n",
       "      <th>2</th>\n",
       "      <td>Uma#r</td>\n",
       "      <td>Dataanalyst^^#</td>\n",
       "      <td>NaN</td>\n",
       "      <td>NaN</td>\n",
       "      <td>1$5%000</td>\n",
       "      <td>4&gt; yrs</td>\n",
       "    </tr>\n",
       "    <tr>\n",
       "      <th>3</th>\n",
       "      <td>Jane</td>\n",
       "      <td>Ana^^lytics</td>\n",
       "      <td>NaN</td>\n",
       "      <td>Hyderbad</td>\n",
       "      <td>2000^0</td>\n",
       "      <td>NaN</td>\n",
       "    </tr>\n",
       "    <tr>\n",
       "      <th>4</th>\n",
       "      <td>Uttam*</td>\n",
       "      <td>Statistics</td>\n",
       "      <td>67-yr</td>\n",
       "      <td>NaN</td>\n",
       "      <td>30000-</td>\n",
       "      <td>5+ year</td>\n",
       "    </tr>\n",
       "    <tr>\n",
       "      <th>5</th>\n",
       "      <td>Kim</td>\n",
       "      <td>NLP</td>\n",
       "      <td>55yr</td>\n",
       "      <td>Delhi</td>\n",
       "      <td>6000^$0</td>\n",
       "      <td>10+</td>\n",
       "    </tr>\n",
       "  </tbody>\n",
       "</table>\n",
       "</div>"
      ],
      "text/plain": [
       "     Name          Domain     Age   Location   Salary      Exp\n",
       "1  Teddy^         Testing  45' yr  Bangalore  10%%000       <3\n",
       "2   Uma#r  Dataanalyst^^#     NaN        NaN  1$5%000   4> yrs\n",
       "3    Jane     Ana^^lytics     NaN   Hyderbad   2000^0      NaN\n",
       "4  Uttam*      Statistics   67-yr        NaN   30000-  5+ year\n",
       "5     Kim             NLP    55yr      Delhi  6000^$0      10+"
      ]
     },
     "execution_count": 8,
     "metadata": {},
     "output_type": "execute_result"
    }
   ],
   "source": [
    "emp.tail()"
   ]
  },
  {
   "cell_type": "code",
   "execution_count": 9,
   "id": "07351a7b-abe8-4996-ace1-0e601fe56854",
   "metadata": {},
   "outputs": [
    {
     "name": "stdout",
     "output_type": "stream",
     "text": [
      "<class 'pandas.core.frame.DataFrame'>\n",
      "RangeIndex: 6 entries, 0 to 5\n",
      "Data columns (total 6 columns):\n",
      " #   Column    Non-Null Count  Dtype \n",
      "---  ------    --------------  ----- \n",
      " 0   Name      6 non-null      object\n",
      " 1   Domain    6 non-null      object\n",
      " 2   Age       4 non-null      object\n",
      " 3   Location  4 non-null      object\n",
      " 4   Salary    6 non-null      object\n",
      " 5   Exp       5 non-null      object\n",
      "dtypes: object(6)\n",
      "memory usage: 420.0+ bytes\n"
     ]
    }
   ],
   "source": [
    "emp.info()"
   ]
  },
  {
   "cell_type": "code",
   "execution_count": 10,
   "id": "48d20baa-e418-4512-9992-e9fe3679fe70",
   "metadata": {},
   "outputs": [
    {
     "data": {
      "text/html": [
       "<div>\n",
       "<style scoped>\n",
       "    .dataframe tbody tr th:only-of-type {\n",
       "        vertical-align: middle;\n",
       "    }\n",
       "\n",
       "    .dataframe tbody tr th {\n",
       "        vertical-align: top;\n",
       "    }\n",
       "\n",
       "    .dataframe thead th {\n",
       "        text-align: right;\n",
       "    }\n",
       "</style>\n",
       "<table border=\"1\" class=\"dataframe\">\n",
       "  <thead>\n",
       "    <tr style=\"text-align: right;\">\n",
       "      <th></th>\n",
       "      <th>Name</th>\n",
       "      <th>Domain</th>\n",
       "      <th>Age</th>\n",
       "      <th>Location</th>\n",
       "      <th>Salary</th>\n",
       "      <th>Exp</th>\n",
       "    </tr>\n",
       "  </thead>\n",
       "  <tbody>\n",
       "    <tr>\n",
       "      <th>0</th>\n",
       "      <td>Mike</td>\n",
       "      <td>Datascience#$</td>\n",
       "      <td>34 years</td>\n",
       "      <td>Mumbai</td>\n",
       "      <td>5^00#0</td>\n",
       "      <td>2+</td>\n",
       "    </tr>\n",
       "    <tr>\n",
       "      <th>1</th>\n",
       "      <td>Teddy^</td>\n",
       "      <td>Testing</td>\n",
       "      <td>45' yr</td>\n",
       "      <td>Bangalore</td>\n",
       "      <td>10%%000</td>\n",
       "      <td>&lt;3</td>\n",
       "    </tr>\n",
       "    <tr>\n",
       "      <th>2</th>\n",
       "      <td>Uma#r</td>\n",
       "      <td>Dataanalyst^^#</td>\n",
       "      <td>NaN</td>\n",
       "      <td>NaN</td>\n",
       "      <td>1$5%000</td>\n",
       "      <td>4&gt; yrs</td>\n",
       "    </tr>\n",
       "    <tr>\n",
       "      <th>3</th>\n",
       "      <td>Jane</td>\n",
       "      <td>Ana^^lytics</td>\n",
       "      <td>NaN</td>\n",
       "      <td>Hyderbad</td>\n",
       "      <td>2000^0</td>\n",
       "      <td>NaN</td>\n",
       "    </tr>\n",
       "    <tr>\n",
       "      <th>4</th>\n",
       "      <td>Uttam*</td>\n",
       "      <td>Statistics</td>\n",
       "      <td>67-yr</td>\n",
       "      <td>NaN</td>\n",
       "      <td>30000-</td>\n",
       "      <td>5+ year</td>\n",
       "    </tr>\n",
       "    <tr>\n",
       "      <th>5</th>\n",
       "      <td>Kim</td>\n",
       "      <td>NLP</td>\n",
       "      <td>55yr</td>\n",
       "      <td>Delhi</td>\n",
       "      <td>6000^$0</td>\n",
       "      <td>10+</td>\n",
       "    </tr>\n",
       "  </tbody>\n",
       "</table>\n",
       "</div>"
      ],
      "text/plain": [
       "     Name          Domain       Age   Location   Salary      Exp\n",
       "0    Mike   Datascience#$  34 years     Mumbai   5^00#0       2+\n",
       "1  Teddy^         Testing    45' yr  Bangalore  10%%000       <3\n",
       "2   Uma#r  Dataanalyst^^#       NaN        NaN  1$5%000   4> yrs\n",
       "3    Jane     Ana^^lytics       NaN   Hyderbad   2000^0      NaN\n",
       "4  Uttam*      Statistics     67-yr        NaN   30000-  5+ year\n",
       "5     Kim             NLP      55yr      Delhi  6000^$0      10+"
      ]
     },
     "execution_count": 10,
     "metadata": {},
     "output_type": "execute_result"
    }
   ],
   "source": [
    "emp\n"
   ]
  },
  {
   "cell_type": "code",
   "execution_count": 11,
   "id": "2b1d3dac-9471-4a43-8b00-e88996ec5a00",
   "metadata": {},
   "outputs": [
    {
     "data": {
      "text/html": [
       "<div>\n",
       "<style scoped>\n",
       "    .dataframe tbody tr th:only-of-type {\n",
       "        vertical-align: middle;\n",
       "    }\n",
       "\n",
       "    .dataframe tbody tr th {\n",
       "        vertical-align: top;\n",
       "    }\n",
       "\n",
       "    .dataframe thead th {\n",
       "        text-align: right;\n",
       "    }\n",
       "</style>\n",
       "<table border=\"1\" class=\"dataframe\">\n",
       "  <thead>\n",
       "    <tr style=\"text-align: right;\">\n",
       "      <th></th>\n",
       "      <th>Name</th>\n",
       "      <th>Domain</th>\n",
       "      <th>Age</th>\n",
       "      <th>Location</th>\n",
       "      <th>Salary</th>\n",
       "      <th>Exp</th>\n",
       "    </tr>\n",
       "  </thead>\n",
       "  <tbody>\n",
       "    <tr>\n",
       "      <th>0</th>\n",
       "      <td>False</td>\n",
       "      <td>False</td>\n",
       "      <td>False</td>\n",
       "      <td>False</td>\n",
       "      <td>False</td>\n",
       "      <td>False</td>\n",
       "    </tr>\n",
       "    <tr>\n",
       "      <th>1</th>\n",
       "      <td>False</td>\n",
       "      <td>False</td>\n",
       "      <td>False</td>\n",
       "      <td>False</td>\n",
       "      <td>False</td>\n",
       "      <td>False</td>\n",
       "    </tr>\n",
       "    <tr>\n",
       "      <th>2</th>\n",
       "      <td>False</td>\n",
       "      <td>False</td>\n",
       "      <td>True</td>\n",
       "      <td>True</td>\n",
       "      <td>False</td>\n",
       "      <td>False</td>\n",
       "    </tr>\n",
       "    <tr>\n",
       "      <th>3</th>\n",
       "      <td>False</td>\n",
       "      <td>False</td>\n",
       "      <td>True</td>\n",
       "      <td>False</td>\n",
       "      <td>False</td>\n",
       "      <td>True</td>\n",
       "    </tr>\n",
       "    <tr>\n",
       "      <th>4</th>\n",
       "      <td>False</td>\n",
       "      <td>False</td>\n",
       "      <td>False</td>\n",
       "      <td>True</td>\n",
       "      <td>False</td>\n",
       "      <td>False</td>\n",
       "    </tr>\n",
       "    <tr>\n",
       "      <th>5</th>\n",
       "      <td>False</td>\n",
       "      <td>False</td>\n",
       "      <td>False</td>\n",
       "      <td>False</td>\n",
       "      <td>False</td>\n",
       "      <td>False</td>\n",
       "    </tr>\n",
       "  </tbody>\n",
       "</table>\n",
       "</div>"
      ],
      "text/plain": [
       "    Name  Domain    Age  Location  Salary    Exp\n",
       "0  False   False  False     False   False  False\n",
       "1  False   False  False     False   False  False\n",
       "2  False   False   True      True   False  False\n",
       "3  False   False   True     False   False   True\n",
       "4  False   False  False      True   False  False\n",
       "5  False   False  False     False   False  False"
      ]
     },
     "execution_count": 11,
     "metadata": {},
     "output_type": "execute_result"
    }
   ],
   "source": [
    "emp.isnull()"
   ]
  },
  {
   "cell_type": "code",
   "execution_count": 12,
   "id": "ea420722-f2fa-49e2-be46-503e0e84e9fa",
   "metadata": {},
   "outputs": [
    {
     "data": {
      "text/html": [
       "<div>\n",
       "<style scoped>\n",
       "    .dataframe tbody tr th:only-of-type {\n",
       "        vertical-align: middle;\n",
       "    }\n",
       "\n",
       "    .dataframe tbody tr th {\n",
       "        vertical-align: top;\n",
       "    }\n",
       "\n",
       "    .dataframe thead th {\n",
       "        text-align: right;\n",
       "    }\n",
       "</style>\n",
       "<table border=\"1\" class=\"dataframe\">\n",
       "  <thead>\n",
       "    <tr style=\"text-align: right;\">\n",
       "      <th></th>\n",
       "      <th>Name</th>\n",
       "      <th>Domain</th>\n",
       "      <th>Age</th>\n",
       "      <th>Location</th>\n",
       "      <th>Salary</th>\n",
       "      <th>Exp</th>\n",
       "    </tr>\n",
       "  </thead>\n",
       "  <tbody>\n",
       "    <tr>\n",
       "      <th>0</th>\n",
       "      <td>False</td>\n",
       "      <td>False</td>\n",
       "      <td>False</td>\n",
       "      <td>False</td>\n",
       "      <td>False</td>\n",
       "      <td>False</td>\n",
       "    </tr>\n",
       "    <tr>\n",
       "      <th>1</th>\n",
       "      <td>False</td>\n",
       "      <td>False</td>\n",
       "      <td>False</td>\n",
       "      <td>False</td>\n",
       "      <td>False</td>\n",
       "      <td>False</td>\n",
       "    </tr>\n",
       "    <tr>\n",
       "      <th>2</th>\n",
       "      <td>False</td>\n",
       "      <td>False</td>\n",
       "      <td>True</td>\n",
       "      <td>True</td>\n",
       "      <td>False</td>\n",
       "      <td>False</td>\n",
       "    </tr>\n",
       "    <tr>\n",
       "      <th>3</th>\n",
       "      <td>False</td>\n",
       "      <td>False</td>\n",
       "      <td>True</td>\n",
       "      <td>False</td>\n",
       "      <td>False</td>\n",
       "      <td>True</td>\n",
       "    </tr>\n",
       "    <tr>\n",
       "      <th>4</th>\n",
       "      <td>False</td>\n",
       "      <td>False</td>\n",
       "      <td>False</td>\n",
       "      <td>True</td>\n",
       "      <td>False</td>\n",
       "      <td>False</td>\n",
       "    </tr>\n",
       "    <tr>\n",
       "      <th>5</th>\n",
       "      <td>False</td>\n",
       "      <td>False</td>\n",
       "      <td>False</td>\n",
       "      <td>False</td>\n",
       "      <td>False</td>\n",
       "      <td>False</td>\n",
       "    </tr>\n",
       "  </tbody>\n",
       "</table>\n",
       "</div>"
      ],
      "text/plain": [
       "    Name  Domain    Age  Location  Salary    Exp\n",
       "0  False   False  False     False   False  False\n",
       "1  False   False  False     False   False  False\n",
       "2  False   False   True      True   False  False\n",
       "3  False   False   True     False   False   True\n",
       "4  False   False  False      True   False  False\n",
       "5  False   False  False     False   False  False"
      ]
     },
     "execution_count": 12,
     "metadata": {},
     "output_type": "execute_result"
    }
   ],
   "source": [
    "emp.isna()"
   ]
  },
  {
   "cell_type": "code",
   "execution_count": 14,
   "id": "96b85993-97ac-41d6-b90c-f8bc4f4ceb15",
   "metadata": {},
   "outputs": [
    {
     "data": {
      "text/plain": [
       "Name        0\n",
       "Domain      0\n",
       "Age         2\n",
       "Location    2\n",
       "Salary      0\n",
       "Exp         1\n",
       "dtype: int64"
      ]
     },
     "execution_count": 14,
     "metadata": {},
     "output_type": "execute_result"
    }
   ],
   "source": [
    "emp.isnull().sum()"
   ]
  },
  {
   "cell_type": "markdown",
   "id": "b468fd49-7e07-46a2-ae3e-c4111469fcdb",
   "metadata": {},
   "source": [
    "# data cleaning or data cleansing"
   ]
  },
  {
   "cell_type": "code",
   "execution_count": 16,
   "id": "4b1dfd66-edd4-4c5d-aec8-3d3ee58ad640",
   "metadata": {},
   "outputs": [
    {
     "data": {
      "text/html": [
       "<div>\n",
       "<style scoped>\n",
       "    .dataframe tbody tr th:only-of-type {\n",
       "        vertical-align: middle;\n",
       "    }\n",
       "\n",
       "    .dataframe tbody tr th {\n",
       "        vertical-align: top;\n",
       "    }\n",
       "\n",
       "    .dataframe thead th {\n",
       "        text-align: right;\n",
       "    }\n",
       "</style>\n",
       "<table border=\"1\" class=\"dataframe\">\n",
       "  <thead>\n",
       "    <tr style=\"text-align: right;\">\n",
       "      <th></th>\n",
       "      <th>Name</th>\n",
       "      <th>Domain</th>\n",
       "      <th>Age</th>\n",
       "      <th>Location</th>\n",
       "      <th>Salary</th>\n",
       "      <th>Exp</th>\n",
       "    </tr>\n",
       "  </thead>\n",
       "  <tbody>\n",
       "    <tr>\n",
       "      <th>0</th>\n",
       "      <td>Mike</td>\n",
       "      <td>Datascience#$</td>\n",
       "      <td>34 years</td>\n",
       "      <td>Mumbai</td>\n",
       "      <td>5^00#0</td>\n",
       "      <td>2+</td>\n",
       "    </tr>\n",
       "    <tr>\n",
       "      <th>1</th>\n",
       "      <td>Teddy^</td>\n",
       "      <td>Testing</td>\n",
       "      <td>45' yr</td>\n",
       "      <td>Bangalore</td>\n",
       "      <td>10%%000</td>\n",
       "      <td>&lt;3</td>\n",
       "    </tr>\n",
       "    <tr>\n",
       "      <th>2</th>\n",
       "      <td>Uma#r</td>\n",
       "      <td>Dataanalyst^^#</td>\n",
       "      <td>NaN</td>\n",
       "      <td>NaN</td>\n",
       "      <td>1$5%000</td>\n",
       "      <td>4&gt; yrs</td>\n",
       "    </tr>\n",
       "    <tr>\n",
       "      <th>3</th>\n",
       "      <td>Jane</td>\n",
       "      <td>Ana^^lytics</td>\n",
       "      <td>NaN</td>\n",
       "      <td>Hyderbad</td>\n",
       "      <td>2000^0</td>\n",
       "      <td>NaN</td>\n",
       "    </tr>\n",
       "    <tr>\n",
       "      <th>4</th>\n",
       "      <td>Uttam*</td>\n",
       "      <td>Statistics</td>\n",
       "      <td>67-yr</td>\n",
       "      <td>NaN</td>\n",
       "      <td>30000-</td>\n",
       "      <td>5+ year</td>\n",
       "    </tr>\n",
       "    <tr>\n",
       "      <th>5</th>\n",
       "      <td>Kim</td>\n",
       "      <td>NLP</td>\n",
       "      <td>55yr</td>\n",
       "      <td>Delhi</td>\n",
       "      <td>6000^$0</td>\n",
       "      <td>10+</td>\n",
       "    </tr>\n",
       "  </tbody>\n",
       "</table>\n",
       "</div>"
      ],
      "text/plain": [
       "     Name          Domain       Age   Location   Salary      Exp\n",
       "0    Mike   Datascience#$  34 years     Mumbai   5^00#0       2+\n",
       "1  Teddy^         Testing    45' yr  Bangalore  10%%000       <3\n",
       "2   Uma#r  Dataanalyst^^#       NaN        NaN  1$5%000   4> yrs\n",
       "3    Jane     Ana^^lytics       NaN   Hyderbad   2000^0      NaN\n",
       "4  Uttam*      Statistics     67-yr        NaN   30000-  5+ year\n",
       "5     Kim             NLP      55yr      Delhi  6000^$0      10+"
      ]
     },
     "execution_count": 16,
     "metadata": {},
     "output_type": "execute_result"
    }
   ],
   "source": [
    "emp\n"
   ]
  },
  {
   "cell_type": "code",
   "execution_count": 17,
   "id": "50156918-0a0a-4cec-8d7a-d51b6eeca668",
   "metadata": {},
   "outputs": [
    {
     "data": {
      "text/plain": [
       "0      Mike\n",
       "1    Teddy^\n",
       "2     Uma#r\n",
       "3      Jane\n",
       "4    Uttam*\n",
       "5       Kim\n",
       "Name: Name, dtype: object"
      ]
     },
     "execution_count": 17,
     "metadata": {},
     "output_type": "execute_result"
    }
   ],
   "source": [
    "emp['Name']"
   ]
  },
  {
   "cell_type": "code",
   "execution_count": 18,
   "id": "005be70b-fc26-433e-b9f0-a0f31f1d8246",
   "metadata": {},
   "outputs": [],
   "source": [
    "emp['Name'] =  emp['Name'].str.replace(r'\\W','',regex=True) #for non word charters"
   ]
  },
  {
   "cell_type": "code",
   "execution_count": 19,
   "id": "57f0bd0f-f4e9-457c-ab19-2f15dc14690e",
   "metadata": {},
   "outputs": [
    {
     "data": {
      "text/plain": [
       "0     Mike\n",
       "1    Teddy\n",
       "2     Umar\n",
       "3     Jane\n",
       "4    Uttam\n",
       "5      Kim\n",
       "Name: Name, dtype: object"
      ]
     },
     "execution_count": 19,
     "metadata": {},
     "output_type": "execute_result"
    }
   ],
   "source": [
    "emp['Name']"
   ]
  },
  {
   "cell_type": "code",
   "execution_count": 20,
   "id": "dca02c46-9951-480f-8161-aae9c5aec87f",
   "metadata": {},
   "outputs": [],
   "source": [
    "emp['Domain'] =  emp['Domain'].str.replace(r'\\W','',regex=True)"
   ]
  },
  {
   "cell_type": "code",
   "execution_count": 21,
   "id": "69503159-b6bb-4127-8e84-4f47c5ce7ae7",
   "metadata": {},
   "outputs": [
    {
     "data": {
      "text/plain": [
       "0    Datascience\n",
       "1        Testing\n",
       "2    Dataanalyst\n",
       "3      Analytics\n",
       "4     Statistics\n",
       "5            NLP\n",
       "Name: Domain, dtype: object"
      ]
     },
     "execution_count": 21,
     "metadata": {},
     "output_type": "execute_result"
    }
   ],
   "source": [
    "emp['Domain']"
   ]
  },
  {
   "cell_type": "code",
   "execution_count": 22,
   "id": "142eeaf6-5bbf-4435-a120-fb50d75991b7",
   "metadata": {},
   "outputs": [
    {
     "data": {
      "text/plain": [
       "Index(['Name', 'Domain', 'Age', 'Location', 'Salary', 'Exp'], dtype='object')"
      ]
     },
     "execution_count": 22,
     "metadata": {},
     "output_type": "execute_result"
    }
   ],
   "source": [
    "emp.columns\n"
   ]
  },
  {
   "cell_type": "code",
   "execution_count": 27,
   "id": "f4ae6dc1-0b6e-4196-a064-499030632f60",
   "metadata": {},
   "outputs": [
    {
     "data": {
      "text/plain": [
       "Name        object\n",
       "Domain      object\n",
       "Age         object\n",
       "Location    object\n",
       "Salary      object\n",
       "Exp         object\n",
       "dtype: object"
      ]
     },
     "execution_count": 27,
     "metadata": {},
     "output_type": "execute_result"
    }
   ],
   "source": [
    "emp.dtypes\n"
   ]
  },
  {
   "cell_type": "code",
   "execution_count": 28,
   "id": "a6769053-b7af-4079-b2ad-d55addb9a995",
   "metadata": {},
   "outputs": [
    {
     "data": {
      "text/plain": [
       "0    34 years\n",
       "1      45' yr\n",
       "2         NaN\n",
       "3         NaN\n",
       "4       67-yr\n",
       "5        55yr\n",
       "Name: Age, dtype: object"
      ]
     },
     "execution_count": 28,
     "metadata": {},
     "output_type": "execute_result"
    }
   ],
   "source": [
    "emp['Age']"
   ]
  },
  {
   "cell_type": "code",
   "execution_count": 29,
   "id": "7f873524-99fe-44c0-abcc-909543030a8c",
   "metadata": {},
   "outputs": [],
   "source": [
    "emp['Age'] =  emp['Age'].str.replace(r'\\W','',regex=True)"
   ]
  },
  {
   "cell_type": "code",
   "execution_count": 30,
   "id": "bdfc794b-ed4d-4ee0-b706-09f6d60fa42a",
   "metadata": {},
   "outputs": [
    {
     "data": {
      "text/plain": [
       "0    34years\n",
       "1       45yr\n",
       "2        NaN\n",
       "3        NaN\n",
       "4       67yr\n",
       "5       55yr\n",
       "Name: Age, dtype: object"
      ]
     },
     "execution_count": 30,
     "metadata": {},
     "output_type": "execute_result"
    }
   ],
   "source": [
    "emp['Age']"
   ]
  },
  {
   "cell_type": "code",
   "execution_count": 31,
   "id": "4ed82f35-4bce-4f30-8f99-6620b5751b2b",
   "metadata": {},
   "outputs": [],
   "source": [
    "emp['Age']=emp['Age'].str.extract('(\\d+)')#extract only digits\n"
   ]
  },
  {
   "cell_type": "code",
   "execution_count": 32,
   "id": "8d99f38e-e894-4b00-9e4b-bee546ebea05",
   "metadata": {},
   "outputs": [
    {
     "data": {
      "text/plain": [
       "0     34\n",
       "1     45\n",
       "2    NaN\n",
       "3    NaN\n",
       "4     67\n",
       "5     55\n",
       "Name: Age, dtype: object"
      ]
     },
     "execution_count": 32,
     "metadata": {},
     "output_type": "execute_result"
    }
   ],
   "source": [
    "emp['Age']"
   ]
  },
  {
   "cell_type": "code",
   "execution_count": 33,
   "id": "7c77af2a-d546-40b2-9ae6-a96982ccb940",
   "metadata": {},
   "outputs": [
    {
     "data": {
      "text/plain": [
       "Index(['Name', 'Domain', 'Age', 'Location', 'Salary', 'Exp'], dtype='object')"
      ]
     },
     "execution_count": 33,
     "metadata": {},
     "output_type": "execute_result"
    }
   ],
   "source": [
    "emp.columns\n"
   ]
  },
  {
   "cell_type": "code",
   "execution_count": 34,
   "id": "fe2d4586-523b-4b1b-9207-3cc54b715e0d",
   "metadata": {},
   "outputs": [
    {
     "data": {
      "text/plain": [
       "0       Mumbai\n",
       "1    Bangalore\n",
       "2          NaN\n",
       "3     Hyderbad\n",
       "4          NaN\n",
       "5        Delhi\n",
       "Name: Location, dtype: object"
      ]
     },
     "execution_count": 34,
     "metadata": {},
     "output_type": "execute_result"
    }
   ],
   "source": [
    "emp['Location'] =  emp['Location'].str.replace(r'\\W','',regex=True)\n",
    "emp['Location']"
   ]
  },
  {
   "cell_type": "code",
   "execution_count": 36,
   "id": "f49a583b-1d4f-437e-82ad-b1ce3d8b40de",
   "metadata": {},
   "outputs": [],
   "source": [
    "emp['Salary'] =  emp['Salary'].str.replace(r'\\W','',regex=True)"
   ]
  },
  {
   "cell_type": "code",
   "execution_count": 37,
   "id": "df2afe8e-c256-4d5f-8ce6-3ec457cdf21f",
   "metadata": {},
   "outputs": [
    {
     "data": {
      "text/plain": [
       "0     5000\n",
       "1    10000\n",
       "2    15000\n",
       "3    20000\n",
       "4    30000\n",
       "5    60000\n",
       "Name: Salary, dtype: object"
      ]
     },
     "execution_count": 37,
     "metadata": {},
     "output_type": "execute_result"
    }
   ],
   "source": [
    "emp['Salary']"
   ]
  },
  {
   "cell_type": "code",
   "execution_count": 38,
   "id": "baeffbc2-9aac-400d-9232-29433f1ba3b2",
   "metadata": {},
   "outputs": [
    {
     "data": {
      "text/html": [
       "<div>\n",
       "<style scoped>\n",
       "    .dataframe tbody tr th:only-of-type {\n",
       "        vertical-align: middle;\n",
       "    }\n",
       "\n",
       "    .dataframe tbody tr th {\n",
       "        vertical-align: top;\n",
       "    }\n",
       "\n",
       "    .dataframe thead th {\n",
       "        text-align: right;\n",
       "    }\n",
       "</style>\n",
       "<table border=\"1\" class=\"dataframe\">\n",
       "  <thead>\n",
       "    <tr style=\"text-align: right;\">\n",
       "      <th></th>\n",
       "      <th>Name</th>\n",
       "      <th>Domain</th>\n",
       "      <th>Age</th>\n",
       "      <th>Location</th>\n",
       "      <th>Salary</th>\n",
       "      <th>Exp</th>\n",
       "    </tr>\n",
       "  </thead>\n",
       "  <tbody>\n",
       "    <tr>\n",
       "      <th>0</th>\n",
       "      <td>Mike</td>\n",
       "      <td>Datascience</td>\n",
       "      <td>34</td>\n",
       "      <td>Mumbai</td>\n",
       "      <td>5000</td>\n",
       "      <td>2+</td>\n",
       "    </tr>\n",
       "    <tr>\n",
       "      <th>1</th>\n",
       "      <td>Teddy</td>\n",
       "      <td>Testing</td>\n",
       "      <td>45</td>\n",
       "      <td>Bangalore</td>\n",
       "      <td>10000</td>\n",
       "      <td>&lt;3</td>\n",
       "    </tr>\n",
       "    <tr>\n",
       "      <th>2</th>\n",
       "      <td>Umar</td>\n",
       "      <td>Dataanalyst</td>\n",
       "      <td>NaN</td>\n",
       "      <td>NaN</td>\n",
       "      <td>15000</td>\n",
       "      <td>4&gt; yrs</td>\n",
       "    </tr>\n",
       "    <tr>\n",
       "      <th>3</th>\n",
       "      <td>Jane</td>\n",
       "      <td>Analytics</td>\n",
       "      <td>NaN</td>\n",
       "      <td>Hyderbad</td>\n",
       "      <td>20000</td>\n",
       "      <td>NaN</td>\n",
       "    </tr>\n",
       "    <tr>\n",
       "      <th>4</th>\n",
       "      <td>Uttam</td>\n",
       "      <td>Statistics</td>\n",
       "      <td>67</td>\n",
       "      <td>NaN</td>\n",
       "      <td>30000</td>\n",
       "      <td>5+ year</td>\n",
       "    </tr>\n",
       "  </tbody>\n",
       "</table>\n",
       "</div>"
      ],
      "text/plain": [
       "    Name       Domain  Age   Location Salary      Exp\n",
       "0   Mike  Datascience   34     Mumbai   5000       2+\n",
       "1  Teddy      Testing   45  Bangalore  10000       <3\n",
       "2   Umar  Dataanalyst  NaN        NaN  15000   4> yrs\n",
       "3   Jane    Analytics  NaN   Hyderbad  20000      NaN\n",
       "4  Uttam   Statistics   67        NaN  30000  5+ year"
      ]
     },
     "execution_count": 38,
     "metadata": {},
     "output_type": "execute_result"
    }
   ],
   "source": [
    "emp.head()"
   ]
  },
  {
   "cell_type": "code",
   "execution_count": 39,
   "id": "ae1c24d6-8708-4de3-8f2b-6707772e5c07",
   "metadata": {},
   "outputs": [
    {
     "data": {
      "text/plain": [
       "Index(['Name', 'Domain', 'Age', 'Location', 'Salary', 'Exp'], dtype='object')"
      ]
     },
     "execution_count": 39,
     "metadata": {},
     "output_type": "execute_result"
    }
   ],
   "source": [
    "emp.columns"
   ]
  },
  {
   "cell_type": "code",
   "execution_count": 40,
   "id": "4858c408-58ce-40d1-82cd-c2d6a0b464a0",
   "metadata": {},
   "outputs": [
    {
     "data": {
      "text/plain": [
       "0      2\n",
       "1      3\n",
       "2      4\n",
       "3    NaN\n",
       "4      5\n",
       "5     10\n",
       "Name: Exp, dtype: object"
      ]
     },
     "execution_count": 40,
     "metadata": {},
     "output_type": "execute_result"
    }
   ],
   "source": [
    "emp['Exp']=emp['Exp'].str.extract('(\\d+)')\n",
    "emp['Exp']"
   ]
  },
  {
   "cell_type": "code",
   "execution_count": 41,
   "id": "ab67c8c0-d872-47e6-9419-d437dfb29fab",
   "metadata": {},
   "outputs": [
    {
     "data": {
      "text/html": [
       "<div>\n",
       "<style scoped>\n",
       "    .dataframe tbody tr th:only-of-type {\n",
       "        vertical-align: middle;\n",
       "    }\n",
       "\n",
       "    .dataframe tbody tr th {\n",
       "        vertical-align: top;\n",
       "    }\n",
       "\n",
       "    .dataframe thead th {\n",
       "        text-align: right;\n",
       "    }\n",
       "</style>\n",
       "<table border=\"1\" class=\"dataframe\">\n",
       "  <thead>\n",
       "    <tr style=\"text-align: right;\">\n",
       "      <th></th>\n",
       "      <th>Name</th>\n",
       "      <th>Domain</th>\n",
       "      <th>Age</th>\n",
       "      <th>Location</th>\n",
       "      <th>Salary</th>\n",
       "      <th>Exp</th>\n",
       "    </tr>\n",
       "  </thead>\n",
       "  <tbody>\n",
       "    <tr>\n",
       "      <th>0</th>\n",
       "      <td>Mike</td>\n",
       "      <td>Datascience</td>\n",
       "      <td>34</td>\n",
       "      <td>Mumbai</td>\n",
       "      <td>5000</td>\n",
       "      <td>2</td>\n",
       "    </tr>\n",
       "    <tr>\n",
       "      <th>1</th>\n",
       "      <td>Teddy</td>\n",
       "      <td>Testing</td>\n",
       "      <td>45</td>\n",
       "      <td>Bangalore</td>\n",
       "      <td>10000</td>\n",
       "      <td>3</td>\n",
       "    </tr>\n",
       "    <tr>\n",
       "      <th>2</th>\n",
       "      <td>Umar</td>\n",
       "      <td>Dataanalyst</td>\n",
       "      <td>NaN</td>\n",
       "      <td>NaN</td>\n",
       "      <td>15000</td>\n",
       "      <td>4</td>\n",
       "    </tr>\n",
       "    <tr>\n",
       "      <th>3</th>\n",
       "      <td>Jane</td>\n",
       "      <td>Analytics</td>\n",
       "      <td>NaN</td>\n",
       "      <td>Hyderbad</td>\n",
       "      <td>20000</td>\n",
       "      <td>NaN</td>\n",
       "    </tr>\n",
       "    <tr>\n",
       "      <th>4</th>\n",
       "      <td>Uttam</td>\n",
       "      <td>Statistics</td>\n",
       "      <td>67</td>\n",
       "      <td>NaN</td>\n",
       "      <td>30000</td>\n",
       "      <td>5</td>\n",
       "    </tr>\n",
       "  </tbody>\n",
       "</table>\n",
       "</div>"
      ],
      "text/plain": [
       "    Name       Domain  Age   Location Salary  Exp\n",
       "0   Mike  Datascience   34     Mumbai   5000    2\n",
       "1  Teddy      Testing   45  Bangalore  10000    3\n",
       "2   Umar  Dataanalyst  NaN        NaN  15000    4\n",
       "3   Jane    Analytics  NaN   Hyderbad  20000  NaN\n",
       "4  Uttam   Statistics   67        NaN  30000    5"
      ]
     },
     "execution_count": 41,
     "metadata": {},
     "output_type": "execute_result"
    }
   ],
   "source": [
    "emp.head()"
   ]
  },
  {
   "cell_type": "code",
   "execution_count": 43,
   "id": "fa5967aa-7f0a-4ae0-88da-2201c5707ac8",
   "metadata": {},
   "outputs": [
    {
     "data": {
      "text/html": [
       "<div>\n",
       "<style scoped>\n",
       "    .dataframe tbody tr th:only-of-type {\n",
       "        vertical-align: middle;\n",
       "    }\n",
       "\n",
       "    .dataframe tbody tr th {\n",
       "        vertical-align: top;\n",
       "    }\n",
       "\n",
       "    .dataframe thead th {\n",
       "        text-align: right;\n",
       "    }\n",
       "</style>\n",
       "<table border=\"1\" class=\"dataframe\">\n",
       "  <thead>\n",
       "    <tr style=\"text-align: right;\">\n",
       "      <th></th>\n",
       "      <th>Name</th>\n",
       "      <th>Domain</th>\n",
       "      <th>Age</th>\n",
       "      <th>Location</th>\n",
       "      <th>Salary</th>\n",
       "      <th>Exp</th>\n",
       "    </tr>\n",
       "  </thead>\n",
       "  <tbody>\n",
       "    <tr>\n",
       "      <th>0</th>\n",
       "      <td>Mike</td>\n",
       "      <td>Datascience</td>\n",
       "      <td>34</td>\n",
       "      <td>Mumbai</td>\n",
       "      <td>5000</td>\n",
       "      <td>2</td>\n",
       "    </tr>\n",
       "    <tr>\n",
       "      <th>1</th>\n",
       "      <td>Teddy</td>\n",
       "      <td>Testing</td>\n",
       "      <td>45</td>\n",
       "      <td>Bangalore</td>\n",
       "      <td>10000</td>\n",
       "      <td>3</td>\n",
       "    </tr>\n",
       "    <tr>\n",
       "      <th>2</th>\n",
       "      <td>Umar</td>\n",
       "      <td>Dataanalyst</td>\n",
       "      <td>NaN</td>\n",
       "      <td>NaN</td>\n",
       "      <td>15000</td>\n",
       "      <td>4</td>\n",
       "    </tr>\n",
       "    <tr>\n",
       "      <th>3</th>\n",
       "      <td>Jane</td>\n",
       "      <td>Analytics</td>\n",
       "      <td>NaN</td>\n",
       "      <td>Hyderbad</td>\n",
       "      <td>20000</td>\n",
       "      <td>NaN</td>\n",
       "    </tr>\n",
       "    <tr>\n",
       "      <th>4</th>\n",
       "      <td>Uttam</td>\n",
       "      <td>Statistics</td>\n",
       "      <td>67</td>\n",
       "      <td>NaN</td>\n",
       "      <td>30000</td>\n",
       "      <td>5</td>\n",
       "    </tr>\n",
       "    <tr>\n",
       "      <th>5</th>\n",
       "      <td>Kim</td>\n",
       "      <td>NLP</td>\n",
       "      <td>55</td>\n",
       "      <td>Delhi</td>\n",
       "      <td>60000</td>\n",
       "      <td>10</td>\n",
       "    </tr>\n",
       "  </tbody>\n",
       "</table>\n",
       "</div>"
      ],
      "text/plain": [
       "    Name       Domain  Age   Location Salary  Exp\n",
       "0   Mike  Datascience   34     Mumbai   5000    2\n",
       "1  Teddy      Testing   45  Bangalore  10000    3\n",
       "2   Umar  Dataanalyst  NaN        NaN  15000    4\n",
       "3   Jane    Analytics  NaN   Hyderbad  20000  NaN\n",
       "4  Uttam   Statistics   67        NaN  30000    5\n",
       "5    Kim          NLP   55      Delhi  60000   10"
      ]
     },
     "execution_count": 43,
     "metadata": {},
     "output_type": "execute_result"
    }
   ],
   "source": [
    "clean_data = emp.copy()\n",
    "clean_data"
   ]
  },
  {
   "cell_type": "markdown",
   "id": "4fcd1811-640b-4295-833e-18fe601fcc96",
   "metadata": {},
   "source": [
    "# EDA Technique"
   ]
  },
  {
   "cell_type": "code",
   "execution_count": 45,
   "id": "87721e29-8b23-454f-866a-85dcc1a67484",
   "metadata": {},
   "outputs": [
    {
     "data": {
      "text/html": [
       "<div>\n",
       "<style scoped>\n",
       "    .dataframe tbody tr th:only-of-type {\n",
       "        vertical-align: middle;\n",
       "    }\n",
       "\n",
       "    .dataframe tbody tr th {\n",
       "        vertical-align: top;\n",
       "    }\n",
       "\n",
       "    .dataframe thead th {\n",
       "        text-align: right;\n",
       "    }\n",
       "</style>\n",
       "<table border=\"1\" class=\"dataframe\">\n",
       "  <thead>\n",
       "    <tr style=\"text-align: right;\">\n",
       "      <th></th>\n",
       "      <th>Name</th>\n",
       "      <th>Domain</th>\n",
       "      <th>Age</th>\n",
       "      <th>Location</th>\n",
       "      <th>Salary</th>\n",
       "      <th>Exp</th>\n",
       "    </tr>\n",
       "  </thead>\n",
       "  <tbody>\n",
       "    <tr>\n",
       "      <th>0</th>\n",
       "      <td>Mike</td>\n",
       "      <td>Datascience</td>\n",
       "      <td>34</td>\n",
       "      <td>Mumbai</td>\n",
       "      <td>5000</td>\n",
       "      <td>2</td>\n",
       "    </tr>\n",
       "    <tr>\n",
       "      <th>1</th>\n",
       "      <td>Teddy</td>\n",
       "      <td>Testing</td>\n",
       "      <td>45</td>\n",
       "      <td>Bangalore</td>\n",
       "      <td>10000</td>\n",
       "      <td>3</td>\n",
       "    </tr>\n",
       "    <tr>\n",
       "      <th>2</th>\n",
       "      <td>Umar</td>\n",
       "      <td>Dataanalyst</td>\n",
       "      <td>NaN</td>\n",
       "      <td>NaN</td>\n",
       "      <td>15000</td>\n",
       "      <td>4</td>\n",
       "    </tr>\n",
       "    <tr>\n",
       "      <th>3</th>\n",
       "      <td>Jane</td>\n",
       "      <td>Analytics</td>\n",
       "      <td>NaN</td>\n",
       "      <td>Hyderbad</td>\n",
       "      <td>20000</td>\n",
       "      <td>NaN</td>\n",
       "    </tr>\n",
       "    <tr>\n",
       "      <th>4</th>\n",
       "      <td>Uttam</td>\n",
       "      <td>Statistics</td>\n",
       "      <td>67</td>\n",
       "      <td>NaN</td>\n",
       "      <td>30000</td>\n",
       "      <td>5</td>\n",
       "    </tr>\n",
       "    <tr>\n",
       "      <th>5</th>\n",
       "      <td>Kim</td>\n",
       "      <td>NLP</td>\n",
       "      <td>55</td>\n",
       "      <td>Delhi</td>\n",
       "      <td>60000</td>\n",
       "      <td>10</td>\n",
       "    </tr>\n",
       "  </tbody>\n",
       "</table>\n",
       "</div>"
      ],
      "text/plain": [
       "    Name       Domain  Age   Location Salary  Exp\n",
       "0   Mike  Datascience   34     Mumbai   5000    2\n",
       "1  Teddy      Testing   45  Bangalore  10000    3\n",
       "2   Umar  Dataanalyst  NaN        NaN  15000    4\n",
       "3   Jane    Analytics  NaN   Hyderbad  20000  NaN\n",
       "4  Uttam   Statistics   67        NaN  30000    5\n",
       "5    Kim          NLP   55      Delhi  60000   10"
      ]
     },
     "execution_count": 45,
     "metadata": {},
     "output_type": "execute_result"
    }
   ],
   "source": [
    "clean_data"
   ]
  },
  {
   "cell_type": "code",
   "execution_count": 46,
   "id": "fa50f898-6414-40f1-ac71-9bf34078e4ac",
   "metadata": {},
   "outputs": [
    {
     "data": {
      "text/plain": [
       "Name        0\n",
       "Domain      0\n",
       "Age         2\n",
       "Location    2\n",
       "Salary      0\n",
       "Exp         1\n",
       "dtype: int64"
      ]
     },
     "execution_count": 46,
     "metadata": {},
     "output_type": "execute_result"
    }
   ],
   "source": [
    "clean_data.isnull().sum()"
   ]
  },
  {
   "cell_type": "code",
   "execution_count": 47,
   "id": "6ebfe174-2293-4e39-8f94-7af2f08d426c",
   "metadata": {},
   "outputs": [],
   "source": [
    "import numpy as np"
   ]
  },
  {
   "cell_type": "code",
   "execution_count": 49,
   "id": "becc0687-5bd9-4436-a666-7356998f8bb2",
   "metadata": {},
   "outputs": [],
   "source": [
    "clean_data['Age'] = clean_data['Age'].fillna(np.mean(pd.to_numeric(clean_data['Age'])))"
   ]
  },
  {
   "cell_type": "code",
   "execution_count": 50,
   "id": "8b2b6ed5-76e7-424c-befd-b4223580e0db",
   "metadata": {},
   "outputs": [
    {
     "data": {
      "text/plain": [
       "0       34\n",
       "1       45\n",
       "2    50.25\n",
       "3    50.25\n",
       "4       67\n",
       "5       55\n",
       "Name: Age, dtype: object"
      ]
     },
     "execution_count": 50,
     "metadata": {},
     "output_type": "execute_result"
    }
   ],
   "source": [
    "clean_data['Age']"
   ]
  },
  {
   "cell_type": "code",
   "execution_count": 52,
   "id": "0b21aa3a-4af8-457a-83a1-e9e25edc2608",
   "metadata": {},
   "outputs": [],
   "source": [
    "clean_data['Exp'] =clean_data['Exp'].fillna(np.mean(pd.to_numeric(clean_data['Exp'])))"
   ]
  },
  {
   "cell_type": "code",
   "execution_count": 53,
   "id": "bc4c8e5d-edb7-4852-917e-e68b4b613dfd",
   "metadata": {},
   "outputs": [
    {
     "data": {
      "text/plain": [
       "0      2\n",
       "1      3\n",
       "2      4\n",
       "3    4.8\n",
       "4      5\n",
       "5     10\n",
       "Name: Exp, dtype: object"
      ]
     },
     "execution_count": 53,
     "metadata": {},
     "output_type": "execute_result"
    }
   ],
   "source": [
    "clean_data['Exp']"
   ]
  },
  {
   "cell_type": "code",
   "execution_count": 54,
   "id": "c30119c0-a361-4774-95a0-340c425e4dc5",
   "metadata": {},
   "outputs": [
    {
     "data": {
      "text/plain": [
       "np.int64(2)"
      ]
     },
     "execution_count": 54,
     "metadata": {},
     "output_type": "execute_result"
    }
   ],
   "source": [
    "clean_data['Location'].isnull().sum()"
   ]
  },
  {
   "cell_type": "code",
   "execution_count": 56,
   "id": "451d8bb3-298d-456a-a877-6ad0abeef03d",
   "metadata": {},
   "outputs": [
    {
     "data": {
      "text/plain": [
       "0       Mumbai\n",
       "1    Bangalore\n",
       "2          NaN\n",
       "3     Hyderbad\n",
       "4          NaN\n",
       "5        Delhi\n",
       "Name: Location, dtype: object"
      ]
     },
     "execution_count": 56,
     "metadata": {},
     "output_type": "execute_result"
    }
   ],
   "source": [
    "clean_data['Location']"
   ]
  },
  {
   "cell_type": "code",
   "execution_count": 57,
   "id": "59508a22-d481-4cff-8a3d-5ebe78434aaa",
   "metadata": {},
   "outputs": [],
   "source": [
    "clean_data['Location']= clean_data['Location'].fillna(clean_data['Location'].mode()[0])"
   ]
  },
  {
   "cell_type": "code",
   "execution_count": 58,
   "id": "651607b6-ac01-44d4-8c4b-8c1052f33b51",
   "metadata": {},
   "outputs": [
    {
     "data": {
      "text/plain": [
       "0       Mumbai\n",
       "1    Bangalore\n",
       "2    Bangalore\n",
       "3     Hyderbad\n",
       "4    Bangalore\n",
       "5        Delhi\n",
       "Name: Location, dtype: object"
      ]
     },
     "execution_count": 58,
     "metadata": {},
     "output_type": "execute_result"
    }
   ],
   "source": [
    "clean_data['Location']"
   ]
  },
  {
   "cell_type": "code",
   "execution_count": 59,
   "id": "6deb848a-b5f7-4685-942f-24f2604bfd42",
   "metadata": {},
   "outputs": [
    {
     "data": {
      "text/html": [
       "<div>\n",
       "<style scoped>\n",
       "    .dataframe tbody tr th:only-of-type {\n",
       "        vertical-align: middle;\n",
       "    }\n",
       "\n",
       "    .dataframe tbody tr th {\n",
       "        vertical-align: top;\n",
       "    }\n",
       "\n",
       "    .dataframe thead th {\n",
       "        text-align: right;\n",
       "    }\n",
       "</style>\n",
       "<table border=\"1\" class=\"dataframe\">\n",
       "  <thead>\n",
       "    <tr style=\"text-align: right;\">\n",
       "      <th></th>\n",
       "      <th>Name</th>\n",
       "      <th>Domain</th>\n",
       "      <th>Age</th>\n",
       "      <th>Location</th>\n",
       "      <th>Salary</th>\n",
       "      <th>Exp</th>\n",
       "    </tr>\n",
       "  </thead>\n",
       "  <tbody>\n",
       "    <tr>\n",
       "      <th>0</th>\n",
       "      <td>Mike</td>\n",
       "      <td>Datascience</td>\n",
       "      <td>34</td>\n",
       "      <td>Mumbai</td>\n",
       "      <td>5000</td>\n",
       "      <td>2</td>\n",
       "    </tr>\n",
       "    <tr>\n",
       "      <th>1</th>\n",
       "      <td>Teddy</td>\n",
       "      <td>Testing</td>\n",
       "      <td>45</td>\n",
       "      <td>Bangalore</td>\n",
       "      <td>10000</td>\n",
       "      <td>3</td>\n",
       "    </tr>\n",
       "    <tr>\n",
       "      <th>2</th>\n",
       "      <td>Umar</td>\n",
       "      <td>Dataanalyst</td>\n",
       "      <td>50.25</td>\n",
       "      <td>Bangalore</td>\n",
       "      <td>15000</td>\n",
       "      <td>4</td>\n",
       "    </tr>\n",
       "    <tr>\n",
       "      <th>3</th>\n",
       "      <td>Jane</td>\n",
       "      <td>Analytics</td>\n",
       "      <td>50.25</td>\n",
       "      <td>Hyderbad</td>\n",
       "      <td>20000</td>\n",
       "      <td>4.8</td>\n",
       "    </tr>\n",
       "    <tr>\n",
       "      <th>4</th>\n",
       "      <td>Uttam</td>\n",
       "      <td>Statistics</td>\n",
       "      <td>67</td>\n",
       "      <td>Bangalore</td>\n",
       "      <td>30000</td>\n",
       "      <td>5</td>\n",
       "    </tr>\n",
       "    <tr>\n",
       "      <th>5</th>\n",
       "      <td>Kim</td>\n",
       "      <td>NLP</td>\n",
       "      <td>55</td>\n",
       "      <td>Delhi</td>\n",
       "      <td>60000</td>\n",
       "      <td>10</td>\n",
       "    </tr>\n",
       "  </tbody>\n",
       "</table>\n",
       "</div>"
      ],
      "text/plain": [
       "    Name       Domain    Age   Location Salary  Exp\n",
       "0   Mike  Datascience     34     Mumbai   5000    2\n",
       "1  Teddy      Testing     45  Bangalore  10000    3\n",
       "2   Umar  Dataanalyst  50.25  Bangalore  15000    4\n",
       "3   Jane    Analytics  50.25   Hyderbad  20000  4.8\n",
       "4  Uttam   Statistics     67  Bangalore  30000    5\n",
       "5    Kim          NLP     55      Delhi  60000   10"
      ]
     },
     "execution_count": 59,
     "metadata": {},
     "output_type": "execute_result"
    }
   ],
   "source": [
    "clean_data"
   ]
  },
  {
   "cell_type": "code",
   "execution_count": 60,
   "id": "cf25fa82-dbcc-4fac-ba84-8e2502a9afb5",
   "metadata": {},
   "outputs": [
    {
     "name": "stdout",
     "output_type": "stream",
     "text": [
      "<class 'pandas.core.frame.DataFrame'>\n",
      "RangeIndex: 6 entries, 0 to 5\n",
      "Data columns (total 6 columns):\n",
      " #   Column    Non-Null Count  Dtype \n",
      "---  ------    --------------  ----- \n",
      " 0   Name      6 non-null      object\n",
      " 1   Domain    6 non-null      object\n",
      " 2   Age       4 non-null      object\n",
      " 3   Location  4 non-null      object\n",
      " 4   Salary    6 non-null      object\n",
      " 5   Exp       5 non-null      object\n",
      "dtypes: object(6)\n",
      "memory usage: 420.0+ bytes\n"
     ]
    }
   ],
   "source": [
    "emp.info()"
   ]
  },
  {
   "cell_type": "code",
   "execution_count": 61,
   "id": "b74b76f1-9e24-41b8-967d-703efd3cd2d6",
   "metadata": {},
   "outputs": [
    {
     "name": "stdout",
     "output_type": "stream",
     "text": [
      "<class 'pandas.core.frame.DataFrame'>\n",
      "RangeIndex: 6 entries, 0 to 5\n",
      "Data columns (total 6 columns):\n",
      " #   Column    Non-Null Count  Dtype \n",
      "---  ------    --------------  ----- \n",
      " 0   Name      6 non-null      object\n",
      " 1   Domain    6 non-null      object\n",
      " 2   Age       6 non-null      object\n",
      " 3   Location  6 non-null      object\n",
      " 4   Salary    6 non-null      object\n",
      " 5   Exp       6 non-null      object\n",
      "dtypes: object(6)\n",
      "memory usage: 420.0+ bytes\n"
     ]
    }
   ],
   "source": [
    "clean_data.info()"
   ]
  },
  {
   "cell_type": "code",
   "execution_count": 62,
   "id": "6af7bd43-c15b-4949-99d4-0f5641474538",
   "metadata": {},
   "outputs": [],
   "source": [
    "clean_data['Age']= clean_data['Age'].astype(int) #changed system datatype to user defined data type"
   ]
  },
  {
   "cell_type": "code",
   "execution_count": 63,
   "id": "bc87c17a-858f-480d-a8d6-2280787b8cdf",
   "metadata": {},
   "outputs": [
    {
     "name": "stdout",
     "output_type": "stream",
     "text": [
      "<class 'pandas.core.frame.DataFrame'>\n",
      "RangeIndex: 6 entries, 0 to 5\n",
      "Data columns (total 6 columns):\n",
      " #   Column    Non-Null Count  Dtype \n",
      "---  ------    --------------  ----- \n",
      " 0   Name      6 non-null      object\n",
      " 1   Domain    6 non-null      object\n",
      " 2   Age       6 non-null      int64 \n",
      " 3   Location  6 non-null      object\n",
      " 4   Salary    6 non-null      object\n",
      " 5   Exp       6 non-null      object\n",
      "dtypes: int64(1), object(5)\n",
      "memory usage: 420.0+ bytes\n"
     ]
    }
   ],
   "source": [
    "clean_data.info()"
   ]
  },
  {
   "cell_type": "code",
   "execution_count": 65,
   "id": "c9958d24-99ea-4c5e-856f-636163038283",
   "metadata": {},
   "outputs": [
    {
     "data": {
      "text/plain": [
       "0     5000\n",
       "1    10000\n",
       "2    15000\n",
       "3    20000\n",
       "4    30000\n",
       "5    60000\n",
       "Name: Salary, dtype: int64"
      ]
     },
     "execution_count": 65,
     "metadata": {},
     "output_type": "execute_result"
    }
   ],
   "source": [
    "clean_data['Salary']= clean_data['Salary'].astype(int) \n",
    "clean_data['Salary']"
   ]
  },
  {
   "cell_type": "code",
   "execution_count": 67,
   "id": "e6058bf9-b854-4c9f-94a2-f31962a04d60",
   "metadata": {},
   "outputs": [],
   "source": [
    "clean_data['Exp']= clean_data['Exp'].astype(int) "
   ]
  },
  {
   "cell_type": "code",
   "execution_count": 68,
   "id": "3eec4374-48d9-4669-b5d6-20790f508979",
   "metadata": {},
   "outputs": [
    {
     "data": {
      "text/plain": [
       "0     2\n",
       "1     3\n",
       "2     4\n",
       "3     4\n",
       "4     5\n",
       "5    10\n",
       "Name: Exp, dtype: int64"
      ]
     },
     "execution_count": 68,
     "metadata": {},
     "output_type": "execute_result"
    }
   ],
   "source": [
    "clean_data['Exp']"
   ]
  },
  {
   "cell_type": "code",
   "execution_count": 69,
   "id": "4ab9b753-6d38-43eb-bff0-cb961c71b694",
   "metadata": {},
   "outputs": [
    {
     "name": "stdout",
     "output_type": "stream",
     "text": [
      "<class 'pandas.core.frame.DataFrame'>\n",
      "RangeIndex: 6 entries, 0 to 5\n",
      "Data columns (total 6 columns):\n",
      " #   Column    Non-Null Count  Dtype \n",
      "---  ------    --------------  ----- \n",
      " 0   Name      6 non-null      object\n",
      " 1   Domain    6 non-null      object\n",
      " 2   Age       6 non-null      int64 \n",
      " 3   Location  6 non-null      object\n",
      " 4   Salary    6 non-null      int64 \n",
      " 5   Exp       6 non-null      int64 \n",
      "dtypes: int64(3), object(3)\n",
      "memory usage: 420.0+ bytes\n"
     ]
    }
   ],
   "source": [
    "clean_data.info()"
   ]
  },
  {
   "cell_type": "code",
   "execution_count": 72,
   "id": "526d0e90-f0c7-46bf-a33e-81a4a2c5602c",
   "metadata": {},
   "outputs": [],
   "source": [
    "clean_data['Name']= clean_data['Name'].astype('category') \n",
    "clean_data['Domain']= clean_data['Domain'].astype('category') \n",
    "clean_data['Location']= clean_data['Location'].astype('category') "
   ]
  },
  {
   "cell_type": "code",
   "execution_count": 73,
   "id": "b027caa0-9ead-4bd2-a35d-bf90bbfb0b09",
   "metadata": {},
   "outputs": [
    {
     "data": {
      "text/plain": [
       "0       Mumbai\n",
       "1    Bangalore\n",
       "2    Bangalore\n",
       "3     Hyderbad\n",
       "4    Bangalore\n",
       "5        Delhi\n",
       "Name: Location, dtype: category\n",
       "Categories (4, object): ['Bangalore', 'Delhi', 'Hyderbad', 'Mumbai']"
      ]
     },
     "execution_count": 73,
     "metadata": {},
     "output_type": "execute_result"
    }
   ],
   "source": [
    "clean_data['Name']\n",
    "clean_data['Domain']\n",
    "clean_data['Location']"
   ]
  },
  {
   "cell_type": "code",
   "execution_count": 74,
   "id": "f4e974f5-625d-4e2f-bdd1-8f702b0d4ebc",
   "metadata": {},
   "outputs": [
    {
     "name": "stdout",
     "output_type": "stream",
     "text": [
      "<class 'pandas.core.frame.DataFrame'>\n",
      "RangeIndex: 6 entries, 0 to 5\n",
      "Data columns (total 6 columns):\n",
      " #   Column    Non-Null Count  Dtype   \n",
      "---  ------    --------------  -----   \n",
      " 0   Name      6 non-null      category\n",
      " 1   Domain    6 non-null      category\n",
      " 2   Age       6 non-null      int64   \n",
      " 3   Location  6 non-null      category\n",
      " 4   Salary    6 non-null      int64   \n",
      " 5   Exp       6 non-null      int64   \n",
      "dtypes: category(3), int64(3)\n",
      "memory usage: 938.0 bytes\n"
     ]
    }
   ],
   "source": [
    "clean_data.info()"
   ]
  },
  {
   "cell_type": "code",
   "execution_count": 75,
   "id": "952fb71c-004c-430b-ad43-9e87c32debb4",
   "metadata": {},
   "outputs": [],
   "source": [
    "clean_data.to_csv('clean_data.csv')"
   ]
  },
  {
   "cell_type": "code",
   "execution_count": 76,
   "id": "19a8ba28-7038-49ad-896f-6260715682f7",
   "metadata": {},
   "outputs": [
    {
     "data": {
      "text/plain": [
       "'C:\\\\Users\\\\DELL'"
      ]
     },
     "execution_count": 76,
     "metadata": {},
     "output_type": "execute_result"
    }
   ],
   "source": [
    "import os\n",
    "os.getcwd()#from the os to give the saved current working directly"
   ]
  },
  {
   "cell_type": "code",
   "execution_count": 77,
   "id": "71509221-8cb3-4571-b01c-920a088ee99c",
   "metadata": {},
   "outputs": [
    {
     "data": {
      "text/html": [
       "<div>\n",
       "<style scoped>\n",
       "    .dataframe tbody tr th:only-of-type {\n",
       "        vertical-align: middle;\n",
       "    }\n",
       "\n",
       "    .dataframe tbody tr th {\n",
       "        vertical-align: top;\n",
       "    }\n",
       "\n",
       "    .dataframe thead th {\n",
       "        text-align: right;\n",
       "    }\n",
       "</style>\n",
       "<table border=\"1\" class=\"dataframe\">\n",
       "  <thead>\n",
       "    <tr style=\"text-align: right;\">\n",
       "      <th></th>\n",
       "      <th>Name</th>\n",
       "      <th>Domain</th>\n",
       "      <th>Age</th>\n",
       "      <th>Location</th>\n",
       "      <th>Salary</th>\n",
       "      <th>Exp</th>\n",
       "    </tr>\n",
       "  </thead>\n",
       "  <tbody>\n",
       "    <tr>\n",
       "      <th>0</th>\n",
       "      <td>Mike</td>\n",
       "      <td>Datascience</td>\n",
       "      <td>34</td>\n",
       "      <td>Mumbai</td>\n",
       "      <td>5000</td>\n",
       "      <td>2</td>\n",
       "    </tr>\n",
       "    <tr>\n",
       "      <th>1</th>\n",
       "      <td>Teddy</td>\n",
       "      <td>Testing</td>\n",
       "      <td>45</td>\n",
       "      <td>Bangalore</td>\n",
       "      <td>10000</td>\n",
       "      <td>3</td>\n",
       "    </tr>\n",
       "    <tr>\n",
       "      <th>2</th>\n",
       "      <td>Umar</td>\n",
       "      <td>Dataanalyst</td>\n",
       "      <td>50</td>\n",
       "      <td>Bangalore</td>\n",
       "      <td>15000</td>\n",
       "      <td>4</td>\n",
       "    </tr>\n",
       "    <tr>\n",
       "      <th>3</th>\n",
       "      <td>Jane</td>\n",
       "      <td>Analytics</td>\n",
       "      <td>50</td>\n",
       "      <td>Hyderbad</td>\n",
       "      <td>20000</td>\n",
       "      <td>4</td>\n",
       "    </tr>\n",
       "    <tr>\n",
       "      <th>4</th>\n",
       "      <td>Uttam</td>\n",
       "      <td>Statistics</td>\n",
       "      <td>67</td>\n",
       "      <td>Bangalore</td>\n",
       "      <td>30000</td>\n",
       "      <td>5</td>\n",
       "    </tr>\n",
       "    <tr>\n",
       "      <th>5</th>\n",
       "      <td>Kim</td>\n",
       "      <td>NLP</td>\n",
       "      <td>55</td>\n",
       "      <td>Delhi</td>\n",
       "      <td>60000</td>\n",
       "      <td>10</td>\n",
       "    </tr>\n",
       "  </tbody>\n",
       "</table>\n",
       "</div>"
      ],
      "text/plain": [
       "    Name       Domain  Age   Location  Salary  Exp\n",
       "0   Mike  Datascience   34     Mumbai    5000    2\n",
       "1  Teddy      Testing   45  Bangalore   10000    3\n",
       "2   Umar  Dataanalyst   50  Bangalore   15000    4\n",
       "3   Jane    Analytics   50   Hyderbad   20000    4\n",
       "4  Uttam   Statistics   67  Bangalore   30000    5\n",
       "5    Kim          NLP   55      Delhi   60000   10"
      ]
     },
     "execution_count": 77,
     "metadata": {},
     "output_type": "execute_result"
    }
   ],
   "source": [
    "clean_data\n"
   ]
  },
  {
   "cell_type": "code",
   "execution_count": 79,
   "id": "4560e2eb-f2aa-44ac-a0c7-5a4c8a8c3b36",
   "metadata": {},
   "outputs": [],
   "source": [
    "import matplotlib.pyplot as plt\n",
    "import seaborn as sns\n"
   ]
  },
  {
   "cell_type": "code",
   "execution_count": 80,
   "id": "77267072-051b-4a99-bcda-e542b1aed575",
   "metadata": {},
   "outputs": [],
   "source": [
    "import warnings\n",
    "warnings.filterwarnings('ignore')"
   ]
  },
  {
   "cell_type": "code",
   "execution_count": 82,
   "id": "73c12958-ada0-4f6b-a3b2-a529cddefa2b",
   "metadata": {},
   "outputs": [
    {
     "data": {
      "text/plain": [
       "0     5000\n",
       "1    10000\n",
       "2    15000\n",
       "3    20000\n",
       "4    30000\n",
       "5    60000\n",
       "Name: Salary, dtype: int64"
      ]
     },
     "execution_count": 82,
     "metadata": {},
     "output_type": "execute_result"
    }
   ],
   "source": [
    "clean_data['Salary']"
   ]
  },
  {
   "cell_type": "code",
   "execution_count": 83,
   "id": "50aaa899-405e-48f4-afef-989d2fbeb8ee",
   "metadata": {},
   "outputs": [
    {
     "data": {
      "image/png": "[encoded data removed]",
      "text/plain": [
       "<Figure size 640x480 with 1 Axes>"
      ]
     },
     "metadata": {},
     "output_type": "display_data"
    }
   ],
   "source": [
    "vis1 = sns.distplot(clean_data['Salary'])"
   ]
  },
  {
   "cell_type": "code",
   "execution_count": 84,
   "id": "dd5498b3-3caa-427d-87d5-0b704ca94f0d",
   "metadata": {},
   "outputs": [
    {
     "data": {
      "image/png": "[encoded data removed]",
      "text/plain": [
       "<Figure size 640x480 with 1 Axes>"
      ]
     },
     "metadata": {},
     "output_type": "display_data"
    }
   ],
   "source": [
    "vis1 = plt.hist(clean_data['Salary'])"
   ]
  },
  {
   "cell_type": "code",
   "execution_count": 86,
   "id": "13145f52-209f-467f-acf2-19047064b400",
   "metadata": {},
   "outputs": [
    {
     "data": {
      "image/png": "[encoded data removed]",
      "text/plain": [
       "<Figure size 500x500 with 1 Axes>"
      ]
     },
     "metadata": {},
     "output_type": "display_data"
    }
   ],
   "source": [
    "vis3 = sns.lmplot(data=clean_data,x='Exp',y='Salary') #lmplot = linear model plot \n",
    "#it is positive corelation"
   ]
  },
  {
   "cell_type": "code",
   "execution_count": 89,
   "id": "f9dc0e25-7931-475f-8db6-3661ef866567",
   "metadata": {},
   "outputs": [
    {
     "data": {
      "image/png": "[encoded data removed]",
      "text/plain": [
       "<Figure size 500x500 with 1 Axes>"
      ]
     },
     "metadata": {},
     "output_type": "display_data"
    }
   ],
   "source": [
    "vis4 = sns.lmplot(data=clean_data,x='Exp',y='Salary',fit_reg = False)"
   ]
  },
  {
   "cell_type": "code",
   "execution_count": 90,
   "id": "3709c8d6-869b-4b85-ad94-a0ec758123d3",
   "metadata": {},
   "outputs": [
    {
     "data": {
      "text/html": [
       "<div>\n",
       "<style scoped>\n",
       "    .dataframe tbody tr th:only-of-type {\n",
       "        vertical-align: middle;\n",
       "    }\n",
       "\n",
       "    .dataframe tbody tr th {\n",
       "        vertical-align: top;\n",
       "    }\n",
       "\n",
       "    .dataframe thead th {\n",
       "        text-align: right;\n",
       "    }\n",
       "</style>\n",
       "<table border=\"1\" class=\"dataframe\">\n",
       "  <thead>\n",
       "    <tr style=\"text-align: right;\">\n",
       "      <th></th>\n",
       "      <th>Name</th>\n",
       "      <th>Domain</th>\n",
       "      <th>Age</th>\n",
       "      <th>Location</th>\n",
       "      <th>Salary</th>\n",
       "      <th>Exp</th>\n",
       "    </tr>\n",
       "  </thead>\n",
       "  <tbody>\n",
       "    <tr>\n",
       "      <th>0</th>\n",
       "      <td>Mike</td>\n",
       "      <td>Datascience</td>\n",
       "      <td>34</td>\n",
       "      <td>Mumbai</td>\n",
       "      <td>5000</td>\n",
       "      <td>2</td>\n",
       "    </tr>\n",
       "    <tr>\n",
       "      <th>1</th>\n",
       "      <td>Teddy</td>\n",
       "      <td>Testing</td>\n",
       "      <td>45</td>\n",
       "      <td>Bangalore</td>\n",
       "      <td>10000</td>\n",
       "      <td>3</td>\n",
       "    </tr>\n",
       "    <tr>\n",
       "      <th>2</th>\n",
       "      <td>Umar</td>\n",
       "      <td>Dataanalyst</td>\n",
       "      <td>50</td>\n",
       "      <td>Bangalore</td>\n",
       "      <td>15000</td>\n",
       "      <td>4</td>\n",
       "    </tr>\n",
       "    <tr>\n",
       "      <th>3</th>\n",
       "      <td>Jane</td>\n",
       "      <td>Analytics</td>\n",
       "      <td>50</td>\n",
       "      <td>Hyderbad</td>\n",
       "      <td>20000</td>\n",
       "      <td>4</td>\n",
       "    </tr>\n",
       "    <tr>\n",
       "      <th>4</th>\n",
       "      <td>Uttam</td>\n",
       "      <td>Statistics</td>\n",
       "      <td>67</td>\n",
       "      <td>Bangalore</td>\n",
       "      <td>30000</td>\n",
       "      <td>5</td>\n",
       "    </tr>\n",
       "    <tr>\n",
       "      <th>5</th>\n",
       "      <td>Kim</td>\n",
       "      <td>NLP</td>\n",
       "      <td>55</td>\n",
       "      <td>Delhi</td>\n",
       "      <td>60000</td>\n",
       "      <td>10</td>\n",
       "    </tr>\n",
       "  </tbody>\n",
       "</table>\n",
       "</div>"
      ],
      "text/plain": [
       "    Name       Domain  Age   Location  Salary  Exp\n",
       "0   Mike  Datascience   34     Mumbai    5000    2\n",
       "1  Teddy      Testing   45  Bangalore   10000    3\n",
       "2   Umar  Dataanalyst   50  Bangalore   15000    4\n",
       "3   Jane    Analytics   50   Hyderbad   20000    4\n",
       "4  Uttam   Statistics   67  Bangalore   30000    5\n",
       "5    Kim          NLP   55      Delhi   60000   10"
      ]
     },
     "execution_count": 90,
     "metadata": {},
     "output_type": "execute_result"
    }
   ],
   "source": [
    "clean_data[:]"
   ]
  },
  {
   "cell_type": "code",
   "execution_count": 91,
   "id": "6e8f97c6-fff8-4877-afea-3d6c8bc65659",
   "metadata": {},
   "outputs": [],
   "source": [
    "#independent variable\n",
    "X= clean_data[['Name','Domain','Age','Location','Exp']]"
   ]
  },
  {
   "cell_type": "code",
   "execution_count": 93,
   "id": "a5ca0979-683a-4089-9631-b3c6cd49f87d",
   "metadata": {},
   "outputs": [
    {
     "data": {
      "text/html": [
       "<div>\n",
       "<style scoped>\n",
       "    .dataframe tbody tr th:only-of-type {\n",
       "        vertical-align: middle;\n",
       "    }\n",
       "\n",
       "    .dataframe tbody tr th {\n",
       "        vertical-align: top;\n",
       "    }\n",
       "\n",
       "    .dataframe thead th {\n",
       "        text-align: right;\n",
       "    }\n",
       "</style>\n",
       "<table border=\"1\" class=\"dataframe\">\n",
       "  <thead>\n",
       "    <tr style=\"text-align: right;\">\n",
       "      <th></th>\n",
       "      <th>Name</th>\n",
       "      <th>Domain</th>\n",
       "      <th>Age</th>\n",
       "      <th>Location</th>\n",
       "      <th>Exp</th>\n",
       "    </tr>\n",
       "  </thead>\n",
       "  <tbody>\n",
       "    <tr>\n",
       "      <th>0</th>\n",
       "      <td>Mike</td>\n",
       "      <td>Datascience</td>\n",
       "      <td>34</td>\n",
       "      <td>Mumbai</td>\n",
       "      <td>2</td>\n",
       "    </tr>\n",
       "    <tr>\n",
       "      <th>1</th>\n",
       "      <td>Teddy</td>\n",
       "      <td>Testing</td>\n",
       "      <td>45</td>\n",
       "      <td>Bangalore</td>\n",
       "      <td>3</td>\n",
       "    </tr>\n",
       "    <tr>\n",
       "      <th>2</th>\n",
       "      <td>Umar</td>\n",
       "      <td>Dataanalyst</td>\n",
       "      <td>50</td>\n",
       "      <td>Bangalore</td>\n",
       "      <td>4</td>\n",
       "    </tr>\n",
       "    <tr>\n",
       "      <th>3</th>\n",
       "      <td>Jane</td>\n",
       "      <td>Analytics</td>\n",
       "      <td>50</td>\n",
       "      <td>Hyderbad</td>\n",
       "      <td>4</td>\n",
       "    </tr>\n",
       "    <tr>\n",
       "      <th>4</th>\n",
       "      <td>Uttam</td>\n",
       "      <td>Statistics</td>\n",
       "      <td>67</td>\n",
       "      <td>Bangalore</td>\n",
       "      <td>5</td>\n",
       "    </tr>\n",
       "    <tr>\n",
       "      <th>5</th>\n",
       "      <td>Kim</td>\n",
       "      <td>NLP</td>\n",
       "      <td>55</td>\n",
       "      <td>Delhi</td>\n",
       "      <td>10</td>\n",
       "    </tr>\n",
       "  </tbody>\n",
       "</table>\n",
       "</div>"
      ],
      "text/plain": [
       "    Name       Domain  Age   Location  Exp\n",
       "0   Mike  Datascience   34     Mumbai    2\n",
       "1  Teddy      Testing   45  Bangalore    3\n",
       "2   Umar  Dataanalyst   50  Bangalore    4\n",
       "3   Jane    Analytics   50   Hyderbad    4\n",
       "4  Uttam   Statistics   67  Bangalore    5\n",
       "5    Kim          NLP   55      Delhi   10"
      ]
     },
     "execution_count": 93,
     "metadata": {},
     "output_type": "execute_result"
    }
   ],
   "source": [
    "X"
   ]
  },
  {
   "cell_type": "code",
   "execution_count": 95,
   "id": "c2317024-e6a8-40ff-a806-94ba37f3016c",
   "metadata": {},
   "outputs": [
    {
     "data": {
      "text/html": [
       "<div>\n",
       "<style scoped>\n",
       "    .dataframe tbody tr th:only-of-type {\n",
       "        vertical-align: middle;\n",
       "    }\n",
       "\n",
       "    .dataframe tbody tr th {\n",
       "        vertical-align: top;\n",
       "    }\n",
       "\n",
       "    .dataframe thead th {\n",
       "        text-align: right;\n",
       "    }\n",
       "</style>\n",
       "<table border=\"1\" class=\"dataframe\">\n",
       "  <thead>\n",
       "    <tr style=\"text-align: right;\">\n",
       "      <th></th>\n",
       "      <th>Salary</th>\n",
       "    </tr>\n",
       "  </thead>\n",
       "  <tbody>\n",
       "    <tr>\n",
       "      <th>0</th>\n",
       "      <td>5000</td>\n",
       "    </tr>\n",
       "    <tr>\n",
       "      <th>1</th>\n",
       "      <td>10000</td>\n",
       "    </tr>\n",
       "    <tr>\n",
       "      <th>2</th>\n",
       "      <td>15000</td>\n",
       "    </tr>\n",
       "    <tr>\n",
       "      <th>3</th>\n",
       "      <td>20000</td>\n",
       "    </tr>\n",
       "    <tr>\n",
       "      <th>4</th>\n",
       "      <td>30000</td>\n",
       "    </tr>\n",
       "    <tr>\n",
       "      <th>5</th>\n",
       "      <td>60000</td>\n",
       "    </tr>\n",
       "  </tbody>\n",
       "</table>\n",
       "</div>"
      ],
      "text/plain": [
       "   Salary\n",
       "0    5000\n",
       "1   10000\n",
       "2   15000\n",
       "3   20000\n",
       "4   30000\n",
       "5   60000"
      ]
     },
     "execution_count": 95,
     "metadata": {},
     "output_type": "execute_result"
    }
   ],
   "source": [
    "#dependent variable\n",
    "Y=clean_data[['Salary']]\n",
    "Y"
   ]
  },
  {
   "cell_type": "code",
   "execution_count": 96,
   "id": "c31c558f-7fbb-4ee0-80f5-07df69ac3c4a",
   "metadata": {},
   "outputs": [
    {
     "data": {
      "text/html": [
       "<div>\n",
       "<style scoped>\n",
       "    .dataframe tbody tr th:only-of-type {\n",
       "        vertical-align: middle;\n",
       "    }\n",
       "\n",
       "    .dataframe tbody tr th {\n",
       "        vertical-align: top;\n",
       "    }\n",
       "\n",
       "    .dataframe thead th {\n",
       "        text-align: right;\n",
       "    }\n",
       "</style>\n",
       "<table border=\"1\" class=\"dataframe\">\n",
       "  <thead>\n",
       "    <tr style=\"text-align: right;\">\n",
       "      <th></th>\n",
       "      <th>Name</th>\n",
       "      <th>Domain</th>\n",
       "      <th>Age</th>\n",
       "      <th>Location</th>\n",
       "      <th>Salary</th>\n",
       "      <th>Exp</th>\n",
       "    </tr>\n",
       "  </thead>\n",
       "  <tbody>\n",
       "    <tr>\n",
       "      <th>0</th>\n",
       "      <td>Mike</td>\n",
       "      <td>Datascience</td>\n",
       "      <td>34</td>\n",
       "      <td>Mumbai</td>\n",
       "      <td>5000</td>\n",
       "      <td>2</td>\n",
       "    </tr>\n",
       "    <tr>\n",
       "      <th>1</th>\n",
       "      <td>Teddy</td>\n",
       "      <td>Testing</td>\n",
       "      <td>45</td>\n",
       "      <td>Bangalore</td>\n",
       "      <td>10000</td>\n",
       "      <td>3</td>\n",
       "    </tr>\n",
       "    <tr>\n",
       "      <th>2</th>\n",
       "      <td>Umar</td>\n",
       "      <td>Dataanalyst</td>\n",
       "      <td>NaN</td>\n",
       "      <td>NaN</td>\n",
       "      <td>15000</td>\n",
       "      <td>4</td>\n",
       "    </tr>\n",
       "    <tr>\n",
       "      <th>3</th>\n",
       "      <td>Jane</td>\n",
       "      <td>Analytics</td>\n",
       "      <td>NaN</td>\n",
       "      <td>Hyderbad</td>\n",
       "      <td>20000</td>\n",
       "      <td>NaN</td>\n",
       "    </tr>\n",
       "    <tr>\n",
       "      <th>4</th>\n",
       "      <td>Uttam</td>\n",
       "      <td>Statistics</td>\n",
       "      <td>67</td>\n",
       "      <td>NaN</td>\n",
       "      <td>30000</td>\n",
       "      <td>5</td>\n",
       "    </tr>\n",
       "    <tr>\n",
       "      <th>5</th>\n",
       "      <td>Kim</td>\n",
       "      <td>NLP</td>\n",
       "      <td>55</td>\n",
       "      <td>Delhi</td>\n",
       "      <td>60000</td>\n",
       "      <td>10</td>\n",
       "    </tr>\n",
       "  </tbody>\n",
       "</table>\n",
       "</div>"
      ],
      "text/plain": [
       "    Name       Domain  Age   Location Salary  Exp\n",
       "0   Mike  Datascience   34     Mumbai   5000    2\n",
       "1  Teddy      Testing   45  Bangalore  10000    3\n",
       "2   Umar  Dataanalyst  NaN        NaN  15000    4\n",
       "3   Jane    Analytics  NaN   Hyderbad  20000  NaN\n",
       "4  Uttam   Statistics   67        NaN  30000    5\n",
       "5    Kim          NLP   55      Delhi  60000   10"
      ]
     },
     "execution_count": 96,
     "metadata": {},
     "output_type": "execute_result"
    }
   ],
   "source": [
    "emp"
   ]
  },
  {
   "cell_type": "code",
   "execution_count": 97,
   "id": "e6f5ceec-b834-42bb-acc9-46d94ad384a5",
   "metadata": {},
   "outputs": [
    {
     "data": {
      "text/html": [
       "<div>\n",
       "<style scoped>\n",
       "    .dataframe tbody tr th:only-of-type {\n",
       "        vertical-align: middle;\n",
       "    }\n",
       "\n",
       "    .dataframe tbody tr th {\n",
       "        vertical-align: top;\n",
       "    }\n",
       "\n",
       "    .dataframe thead th {\n",
       "        text-align: right;\n",
       "    }\n",
       "</style>\n",
       "<table border=\"1\" class=\"dataframe\">\n",
       "  <thead>\n",
       "    <tr style=\"text-align: right;\">\n",
       "      <th></th>\n",
       "      <th>Name</th>\n",
       "      <th>Domain</th>\n",
       "      <th>Age</th>\n",
       "      <th>Location</th>\n",
       "      <th>Salary</th>\n",
       "      <th>Exp</th>\n",
       "    </tr>\n",
       "  </thead>\n",
       "  <tbody>\n",
       "    <tr>\n",
       "      <th>0</th>\n",
       "      <td>Mike</td>\n",
       "      <td>Datascience</td>\n",
       "      <td>34</td>\n",
       "      <td>Mumbai</td>\n",
       "      <td>5000</td>\n",
       "      <td>2</td>\n",
       "    </tr>\n",
       "    <tr>\n",
       "      <th>1</th>\n",
       "      <td>Teddy</td>\n",
       "      <td>Testing</td>\n",
       "      <td>45</td>\n",
       "      <td>Bangalore</td>\n",
       "      <td>10000</td>\n",
       "      <td>3</td>\n",
       "    </tr>\n",
       "    <tr>\n",
       "      <th>2</th>\n",
       "      <td>Umar</td>\n",
       "      <td>Dataanalyst</td>\n",
       "      <td>50</td>\n",
       "      <td>Bangalore</td>\n",
       "      <td>15000</td>\n",
       "      <td>4</td>\n",
       "    </tr>\n",
       "    <tr>\n",
       "      <th>3</th>\n",
       "      <td>Jane</td>\n",
       "      <td>Analytics</td>\n",
       "      <td>50</td>\n",
       "      <td>Hyderbad</td>\n",
       "      <td>20000</td>\n",
       "      <td>4</td>\n",
       "    </tr>\n",
       "    <tr>\n",
       "      <th>4</th>\n",
       "      <td>Uttam</td>\n",
       "      <td>Statistics</td>\n",
       "      <td>67</td>\n",
       "      <td>Bangalore</td>\n",
       "      <td>30000</td>\n",
       "      <td>5</td>\n",
       "    </tr>\n",
       "    <tr>\n",
       "      <th>5</th>\n",
       "      <td>Kim</td>\n",
       "      <td>NLP</td>\n",
       "      <td>55</td>\n",
       "      <td>Delhi</td>\n",
       "      <td>60000</td>\n",
       "      <td>10</td>\n",
       "    </tr>\n",
       "  </tbody>\n",
       "</table>\n",
       "</div>"
      ],
      "text/plain": [
       "    Name       Domain  Age   Location  Salary  Exp\n",
       "0   Mike  Datascience   34     Mumbai    5000    2\n",
       "1  Teddy      Testing   45  Bangalore   10000    3\n",
       "2   Umar  Dataanalyst   50  Bangalore   15000    4\n",
       "3   Jane    Analytics   50   Hyderbad   20000    4\n",
       "4  Uttam   Statistics   67  Bangalore   30000    5\n",
       "5    Kim          NLP   55      Delhi   60000   10"
      ]
     },
     "execution_count": 97,
     "metadata": {},
     "output_type": "execute_result"
    }
   ],
   "source": [
    "clean_data"
   ]
  },
  {
   "cell_type": "code",
   "execution_count": 98,
   "id": "b787972f-e06a-4770-88b0-6c367fb61adc",
   "metadata": {},
   "outputs": [
    {
     "data": {
      "text/html": [
       "<div>\n",
       "<style scoped>\n",
       "    .dataframe tbody tr th:only-of-type {\n",
       "        vertical-align: middle;\n",
       "    }\n",
       "\n",
       "    .dataframe tbody tr th {\n",
       "        vertical-align: top;\n",
       "    }\n",
       "\n",
       "    .dataframe thead th {\n",
       "        text-align: right;\n",
       "    }\n",
       "</style>\n",
       "<table border=\"1\" class=\"dataframe\">\n",
       "  <thead>\n",
       "    <tr style=\"text-align: right;\">\n",
       "      <th></th>\n",
       "      <th>Name</th>\n",
       "      <th>Domain</th>\n",
       "      <th>Age</th>\n",
       "      <th>Location</th>\n",
       "      <th>Exp</th>\n",
       "    </tr>\n",
       "  </thead>\n",
       "  <tbody>\n",
       "    <tr>\n",
       "      <th>0</th>\n",
       "      <td>Mike</td>\n",
       "      <td>Datascience</td>\n",
       "      <td>34</td>\n",
       "      <td>Mumbai</td>\n",
       "      <td>2</td>\n",
       "    </tr>\n",
       "    <tr>\n",
       "      <th>1</th>\n",
       "      <td>Teddy</td>\n",
       "      <td>Testing</td>\n",
       "      <td>45</td>\n",
       "      <td>Bangalore</td>\n",
       "      <td>3</td>\n",
       "    </tr>\n",
       "    <tr>\n",
       "      <th>2</th>\n",
       "      <td>Umar</td>\n",
       "      <td>Dataanalyst</td>\n",
       "      <td>50</td>\n",
       "      <td>Bangalore</td>\n",
       "      <td>4</td>\n",
       "    </tr>\n",
       "    <tr>\n",
       "      <th>3</th>\n",
       "      <td>Jane</td>\n",
       "      <td>Analytics</td>\n",
       "      <td>50</td>\n",
       "      <td>Hyderbad</td>\n",
       "      <td>4</td>\n",
       "    </tr>\n",
       "    <tr>\n",
       "      <th>4</th>\n",
       "      <td>Uttam</td>\n",
       "      <td>Statistics</td>\n",
       "      <td>67</td>\n",
       "      <td>Bangalore</td>\n",
       "      <td>5</td>\n",
       "    </tr>\n",
       "    <tr>\n",
       "      <th>5</th>\n",
       "      <td>Kim</td>\n",
       "      <td>NLP</td>\n",
       "      <td>55</td>\n",
       "      <td>Delhi</td>\n",
       "      <td>10</td>\n",
       "    </tr>\n",
       "  </tbody>\n",
       "</table>\n",
       "</div>"
      ],
      "text/plain": [
       "    Name       Domain  Age   Location  Exp\n",
       "0   Mike  Datascience   34     Mumbai    2\n",
       "1  Teddy      Testing   45  Bangalore    3\n",
       "2   Umar  Dataanalyst   50  Bangalore    4\n",
       "3   Jane    Analytics   50   Hyderbad    4\n",
       "4  Uttam   Statistics   67  Bangalore    5\n",
       "5    Kim          NLP   55      Delhi   10"
      ]
     },
     "execution_count": 98,
     "metadata": {},
     "output_type": "execute_result"
    }
   ],
   "source": [
    "X"
   ]
  },
  {
   "cell_type": "code",
   "execution_count": 99,
   "id": "3f4fa2d7-7c13-4c64-9229-c2cf1f341992",
   "metadata": {},
   "outputs": [
    {
     "data": {
      "text/html": [
       "<div>\n",
       "<style scoped>\n",
       "    .dataframe tbody tr th:only-of-type {\n",
       "        vertical-align: middle;\n",
       "    }\n",
       "\n",
       "    .dataframe tbody tr th {\n",
       "        vertical-align: top;\n",
       "    }\n",
       "\n",
       "    .dataframe thead th {\n",
       "        text-align: right;\n",
       "    }\n",
       "</style>\n",
       "<table border=\"1\" class=\"dataframe\">\n",
       "  <thead>\n",
       "    <tr style=\"text-align: right;\">\n",
       "      <th></th>\n",
       "      <th>Salary</th>\n",
       "    </tr>\n",
       "  </thead>\n",
       "  <tbody>\n",
       "    <tr>\n",
       "      <th>0</th>\n",
       "      <td>5000</td>\n",
       "    </tr>\n",
       "    <tr>\n",
       "      <th>1</th>\n",
       "      <td>10000</td>\n",
       "    </tr>\n",
       "    <tr>\n",
       "      <th>2</th>\n",
       "      <td>15000</td>\n",
       "    </tr>\n",
       "    <tr>\n",
       "      <th>3</th>\n",
       "      <td>20000</td>\n",
       "    </tr>\n",
       "    <tr>\n",
       "      <th>4</th>\n",
       "      <td>30000</td>\n",
       "    </tr>\n",
       "    <tr>\n",
       "      <th>5</th>\n",
       "      <td>60000</td>\n",
       "    </tr>\n",
       "  </tbody>\n",
       "</table>\n",
       "</div>"
      ],
      "text/plain": [
       "   Salary\n",
       "0    5000\n",
       "1   10000\n",
       "2   15000\n",
       "3   20000\n",
       "4   30000\n",
       "5   60000"
      ]
     },
     "execution_count": 99,
     "metadata": {},
     "output_type": "execute_result"
    }
   ],
   "source": [
    "Y"
   ]
  },
  {
   "cell_type": "code",
   "execution_count": 100,
   "id": "c8071781-1f0d-48e3-a50d-ba70dee4590a",
   "metadata": {},
   "outputs": [
    {
     "data": {
      "text/html": [
       "<div>\n",
       "<style scoped>\n",
       "    .dataframe tbody tr th:only-of-type {\n",
       "        vertical-align: middle;\n",
       "    }\n",
       "\n",
       "    .dataframe tbody tr th {\n",
       "        vertical-align: top;\n",
       "    }\n",
       "\n",
       "    .dataframe thead th {\n",
       "        text-align: right;\n",
       "    }\n",
       "</style>\n",
       "<table border=\"1\" class=\"dataframe\">\n",
       "  <thead>\n",
       "    <tr style=\"text-align: right;\">\n",
       "      <th></th>\n",
       "      <th>Name</th>\n",
       "      <th>Domain</th>\n",
       "      <th>Age</th>\n",
       "      <th>Location</th>\n",
       "      <th>Salary</th>\n",
       "      <th>Exp</th>\n",
       "    </tr>\n",
       "  </thead>\n",
       "  <tbody>\n",
       "    <tr>\n",
       "      <th>0</th>\n",
       "      <td>Mike</td>\n",
       "      <td>Datascience</td>\n",
       "      <td>34</td>\n",
       "      <td>Mumbai</td>\n",
       "      <td>5000</td>\n",
       "      <td>2</td>\n",
       "    </tr>\n",
       "    <tr>\n",
       "      <th>1</th>\n",
       "      <td>Teddy</td>\n",
       "      <td>Testing</td>\n",
       "      <td>45</td>\n",
       "      <td>Bangalore</td>\n",
       "      <td>10000</td>\n",
       "      <td>3</td>\n",
       "    </tr>\n",
       "    <tr>\n",
       "      <th>2</th>\n",
       "      <td>Umar</td>\n",
       "      <td>Dataanalyst</td>\n",
       "      <td>50</td>\n",
       "      <td>Bangalore</td>\n",
       "      <td>15000</td>\n",
       "      <td>4</td>\n",
       "    </tr>\n",
       "    <tr>\n",
       "      <th>3</th>\n",
       "      <td>Jane</td>\n",
       "      <td>Analytics</td>\n",
       "      <td>50</td>\n",
       "      <td>Hyderbad</td>\n",
       "      <td>20000</td>\n",
       "      <td>4</td>\n",
       "    </tr>\n",
       "    <tr>\n",
       "      <th>4</th>\n",
       "      <td>Uttam</td>\n",
       "      <td>Statistics</td>\n",
       "      <td>67</td>\n",
       "      <td>Bangalore</td>\n",
       "      <td>30000</td>\n",
       "      <td>5</td>\n",
       "    </tr>\n",
       "    <tr>\n",
       "      <th>5</th>\n",
       "      <td>Kim</td>\n",
       "      <td>NLP</td>\n",
       "      <td>55</td>\n",
       "      <td>Delhi</td>\n",
       "      <td>60000</td>\n",
       "      <td>10</td>\n",
       "    </tr>\n",
       "  </tbody>\n",
       "</table>\n",
       "</div>"
      ],
      "text/plain": [
       "    Name       Domain  Age   Location  Salary  Exp\n",
       "0   Mike  Datascience   34     Mumbai    5000    2\n",
       "1  Teddy      Testing   45  Bangalore   10000    3\n",
       "2   Umar  Dataanalyst   50  Bangalore   15000    4\n",
       "3   Jane    Analytics   50   Hyderbad   20000    4\n",
       "4  Uttam   Statistics   67  Bangalore   30000    5\n",
       "5    Kim          NLP   55      Delhi   60000   10"
      ]
     },
     "execution_count": 100,
     "metadata": {},
     "output_type": "execute_result"
    }
   ],
   "source": [
    "clean_data"
   ]
  },
  {
   "cell_type": "code",
   "execution_count": 102,
   "id": "b817d630-f5c3-4ccd-9f32-ab6f3b45b6d6",
   "metadata": {},
   "outputs": [
    {
     "data": {
      "text/html": [
       "<div>\n",
       "<style scoped>\n",
       "    .dataframe tbody tr th:only-of-type {\n",
       "        vertical-align: middle;\n",
       "    }\n",
       "\n",
       "    .dataframe tbody tr th {\n",
       "        vertical-align: top;\n",
       "    }\n",
       "\n",
       "    .dataframe thead th {\n",
       "        text-align: right;\n",
       "    }\n",
       "</style>\n",
       "<table border=\"1\" class=\"dataframe\">\n",
       "  <thead>\n",
       "    <tr style=\"text-align: right;\">\n",
       "      <th></th>\n",
       "      <th>Age</th>\n",
       "      <th>Salary</th>\n",
       "      <th>Exp</th>\n",
       "      <th>Name_Jane</th>\n",
       "      <th>Name_Kim</th>\n",
       "      <th>Name_Mike</th>\n",
       "      <th>Name_Teddy</th>\n",
       "      <th>Name_Umar</th>\n",
       "      <th>Name_Uttam</th>\n",
       "      <th>Domain_Analytics</th>\n",
       "      <th>Domain_Dataanalyst</th>\n",
       "      <th>Domain_Datascience</th>\n",
       "      <th>Domain_NLP</th>\n",
       "      <th>Domain_Statistics</th>\n",
       "      <th>Domain_Testing</th>\n",
       "      <th>Location_Bangalore</th>\n",
       "      <th>Location_Delhi</th>\n",
       "      <th>Location_Hyderbad</th>\n",
       "      <th>Location_Mumbai</th>\n",
       "    </tr>\n",
       "  </thead>\n",
       "  <tbody>\n",
       "    <tr>\n",
       "      <th>0</th>\n",
       "      <td>34</td>\n",
       "      <td>5000</td>\n",
       "      <td>2</td>\n",
       "      <td>0</td>\n",
       "      <td>0</td>\n",
       "      <td>1</td>\n",
       "      <td>0</td>\n",
       "      <td>0</td>\n",
       "      <td>0</td>\n",
       "      <td>0</td>\n",
       "      <td>0</td>\n",
       "      <td>1</td>\n",
       "      <td>0</td>\n",
       "      <td>0</td>\n",
       "      <td>0</td>\n",
       "      <td>0</td>\n",
       "      <td>0</td>\n",
       "      <td>0</td>\n",
       "      <td>1</td>\n",
       "    </tr>\n",
       "    <tr>\n",
       "      <th>1</th>\n",
       "      <td>45</td>\n",
       "      <td>10000</td>\n",
       "      <td>3</td>\n",
       "      <td>0</td>\n",
       "      <td>0</td>\n",
       "      <td>0</td>\n",
       "      <td>1</td>\n",
       "      <td>0</td>\n",
       "      <td>0</td>\n",
       "      <td>0</td>\n",
       "      <td>0</td>\n",
       "      <td>0</td>\n",
       "      <td>0</td>\n",
       "      <td>0</td>\n",
       "      <td>1</td>\n",
       "      <td>1</td>\n",
       "      <td>0</td>\n",
       "      <td>0</td>\n",
       "      <td>0</td>\n",
       "    </tr>\n",
       "    <tr>\n",
       "      <th>2</th>\n",
       "      <td>50</td>\n",
       "      <td>15000</td>\n",
       "      <td>4</td>\n",
       "      <td>0</td>\n",
       "      <td>0</td>\n",
       "      <td>0</td>\n",
       "      <td>0</td>\n",
       "      <td>1</td>\n",
       "      <td>0</td>\n",
       "      <td>0</td>\n",
       "      <td>1</td>\n",
       "      <td>0</td>\n",
       "      <td>0</td>\n",
       "      <td>0</td>\n",
       "      <td>0</td>\n",
       "      <td>1</td>\n",
       "      <td>0</td>\n",
       "      <td>0</td>\n",
       "      <td>0</td>\n",
       "    </tr>\n",
       "    <tr>\n",
       "      <th>3</th>\n",
       "      <td>50</td>\n",
       "      <td>20000</td>\n",
       "      <td>4</td>\n",
       "      <td>1</td>\n",
       "      <td>0</td>\n",
       "      <td>0</td>\n",
       "      <td>0</td>\n",
       "      <td>0</td>\n",
       "      <td>0</td>\n",
       "      <td>1</td>\n",
       "      <td>0</td>\n",
       "      <td>0</td>\n",
       "      <td>0</td>\n",
       "      <td>0</td>\n",
       "      <td>0</td>\n",
       "      <td>0</td>\n",
       "      <td>0</td>\n",
       "      <td>1</td>\n",
       "      <td>0</td>\n",
       "    </tr>\n",
       "    <tr>\n",
       "      <th>4</th>\n",
       "      <td>67</td>\n",
       "      <td>30000</td>\n",
       "      <td>5</td>\n",
       "      <td>0</td>\n",
       "      <td>0</td>\n",
       "      <td>0</td>\n",
       "      <td>0</td>\n",
       "      <td>0</td>\n",
       "      <td>1</td>\n",
       "      <td>0</td>\n",
       "      <td>0</td>\n",
       "      <td>0</td>\n",
       "      <td>0</td>\n",
       "      <td>1</td>\n",
       "      <td>0</td>\n",
       "      <td>1</td>\n",
       "      <td>0</td>\n",
       "      <td>0</td>\n",
       "      <td>0</td>\n",
       "    </tr>\n",
       "    <tr>\n",
       "      <th>5</th>\n",
       "      <td>55</td>\n",
       "      <td>60000</td>\n",
       "      <td>10</td>\n",
       "      <td>0</td>\n",
       "      <td>1</td>\n",
       "      <td>0</td>\n",
       "      <td>0</td>\n",
       "      <td>0</td>\n",
       "      <td>0</td>\n",
       "      <td>0</td>\n",
       "      <td>0</td>\n",
       "      <td>0</td>\n",
       "      <td>1</td>\n",
       "      <td>0</td>\n",
       "      <td>0</td>\n",
       "      <td>0</td>\n",
       "      <td>1</td>\n",
       "      <td>0</td>\n",
       "      <td>0</td>\n",
       "    </tr>\n",
       "  </tbody>\n",
       "</table>\n",
       "</div>"
      ],
      "text/plain": [
       "   Age  Salary  Exp  Name_Jane  Name_Kim  Name_Mike  Name_Teddy  Name_Umar  \\\n",
       "0   34    5000    2          0         0          1           0          0   \n",
       "1   45   10000    3          0         0          0           1          0   \n",
       "2   50   15000    4          0         0          0           0          1   \n",
       "3   50   20000    4          1         0          0           0          0   \n",
       "4   67   30000    5          0         0          0           0          0   \n",
       "5   55   60000   10          0         1          0           0          0   \n",
       "\n",
       "   Name_Uttam  Domain_Analytics  Domain_Dataanalyst  Domain_Datascience  \\\n",
       "0           0                 0                   0                   1   \n",
       "1           0                 0                   0                   0   \n",
       "2           0                 0                   1                   0   \n",
       "3           0                 1                   0                   0   \n",
       "4           1                 0                   0                   0   \n",
       "5           0                 0                   0                   0   \n",
       "\n",
       "   Domain_NLP  Domain_Statistics  Domain_Testing  Location_Bangalore  \\\n",
       "0           0                  0               0                   0   \n",
       "1           0                  0               1                   1   \n",
       "2           0                  0               0                   1   \n",
       "3           0                  0               0                   0   \n",
       "4           0                  1               0                   1   \n",
       "5           1                  0               0                   0   \n",
       "\n",
       "   Location_Delhi  Location_Hyderbad  Location_Mumbai  \n",
       "0               0                  0                1  \n",
       "1               0                  0                0  \n",
       "2               0                  0                0  \n",
       "3               0                  1                0  \n",
       "4               0                  0                0  \n",
       "5               1                  0                0  "
      ]
     },
     "execution_count": 102,
     "metadata": {},
     "output_type": "execute_result"
    }
   ],
   "source": [
    "#this how transformers created\n",
    "imputation = pd.get_dummies(clean_data,dtype=int)\n",
    "imputation"
   ]
  },
  {
   "cell_type": "code",
   "execution_count": 103,
   "id": "0ac7d69f-47c9-4bb7-8066-e168b7369758",
   "metadata": {},
   "outputs": [
    {
     "data": {
      "text/plain": [
       "6"
      ]
     },
     "execution_count": 103,
     "metadata": {},
     "output_type": "execute_result"
    }
   ],
   "source": [
    "len(clean_data)"
   ]
  },
  {
   "cell_type": "code",
   "execution_count": 105,
   "id": "08ca4015-a2a5-4ed0-9db6-17fd8c40cf91",
   "metadata": {},
   "outputs": [
    {
     "data": {
      "text/plain": [
       "Index(['Age', 'Salary', 'Exp', 'Name_Jane', 'Name_Kim', 'Name_Mike',\n",
       "       'Name_Teddy', 'Name_Umar', 'Name_Uttam', 'Domain_Analytics',\n",
       "       'Domain_Dataanalyst', 'Domain_Datascience', 'Domain_NLP',\n",
       "       'Domain_Statistics', 'Domain_Testing', 'Location_Bangalore',\n",
       "       'Location_Delhi', 'Location_Hyderbad', 'Location_Mumbai'],\n",
       "      dtype='object')"
      ]
     },
     "execution_count": 105,
     "metadata": {},
     "output_type": "execute_result"
    }
   ],
   "source": [
    "imputation.columns"
   ]
  },
  {
   "cell_type": "code",
   "execution_count": 106,
   "id": "324675c6-e1c4-4e86-a348-101640512313",
   "metadata": {},
   "outputs": [
    {
     "data": {
      "text/plain": [
       "19"
      ]
     },
     "execution_count": 106,
     "metadata": {},
     "output_type": "execute_result"
    }
   ],
   "source": [
    "len(imputation.columns)"
   ]
  },
  {
   "cell_type": "code",
   "execution_count": null,
   "id": "e04fea35-9a89-43e3-aa9a-841fb7369887",
   "metadata": {},
   "outputs": [],
   "source": []
  },
  {
   "cell_type": "code",
   "execution_count": null,
   "id": "2048e608-85f8-47f1-9a04-5947fb9164ab",
   "metadata": {},
   "outputs": [],
   "source": []
  },
  {
   "cell_type": "code",
   "execution_count": null,
   "id": "41d45ff2-e4e9-4eae-94e6-89b7f6c72e95",
   "metadata": {},
   "outputs": [],
   "source": []
  },
  {
   "cell_type": "code",
   "execution_count": null,
   "id": "aa4ca915-0488-40b7-b9b6-5e87eb40d233",
   "metadata": {},
   "outputs": [],
   "source": []
  },
  {
   "cell_type": "code",
   "execution_count": null,
   "id": "4340a1ff-1507-439b-90be-10a4de9d3b2a",
   "metadata": {},
   "outputs": [],
   "source": []
  },
  {
   "cell_type": "code",
   "execution_count": null,
   "id": "415f857b-efd5-4dc3-8318-cd94c2fb0bd9",
   "metadata": {},
   "outputs": [],
   "source": []
  },
  {
   "cell_type": "code",
   "execution_count": null,
   "id": "cca93b38-1963-4f22-93f6-d7b741d540dd",
   "metadata": {},
   "outputs": [],
   "source": []
  },
  {
   "cell_type": "code",
   "execution_count": null,
   "id": "3f85b264-d97d-4748-8971-4367864968a2",
   "metadata": {},
   "outputs": [],
   "source": []
  },
  {
   "cell_type": "code",
   "execution_count": null,
   "id": "acafa2f4-450a-4c78-9492-35f16b184935",
   "metadata": {},
   "outputs": [],
   "source": []
  },
  {
   "cell_type": "code",
   "execution_count": null,
   "id": "a1d01cf9-50e7-49ae-940f-edc946857f81",
   "metadata": {},
   "outputs": [],
   "source": []
  },
  {
   "cell_type": "code",
   "execution_count": null,
   "id": "a2506837-2849-4ac1-93e8-941291951e13",
   "metadata": {},
   "outputs": [],
   "source": []
  }
 ],
 "metadata": {
  "kernelspec": {
   "display_name": "Python [conda env:base] *",
   "language": "python",
   "name": "conda-base-py"
  },
  "language_info": {
   "codemirror_mode": {
    "name": "ipython",
    "version": 3
   },
   "file_extension": ".py",
   "mimetype": "text/x-python",
   "name": "python",
   "nbconvert_exporter": "python",
   "pygments_lexer": "ipython3",
   "version": "3.13.5"
  }
 },
 "nbformat": 4,
 "nbformat_minor": 5
}
